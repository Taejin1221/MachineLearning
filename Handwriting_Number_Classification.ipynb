{
  "nbformat": 4,
  "nbformat_minor": 0,
  "metadata": {
    "kernelspec": {
      "display_name": "Python 3",
      "language": "python",
      "name": "python3"
    },
    "language_info": {
      "codemirror_mode": {
        "name": "ipython",
        "version": 3
      },
      "file_extension": ".py",
      "mimetype": "text/x-python",
      "name": "python",
      "nbconvert_exporter": "python",
      "pygments_lexer": "ipython3",
      "version": "3.7.4"
    },
    "colab": {
      "name": "Copy of lab-11-4-mnist_cnn_layers_ver-2.ipynb",
      "provenance": [],
      "collapsed_sections": [],
      "include_colab_link": true
    },
    "accelerator": "GPU"
  },
  "cells": [
    {
      "cell_type": "markdown",
      "metadata": {
        "id": "view-in-github",
        "colab_type": "text"
      },
      "source": [
        "<a href=\"https://colab.research.google.com/github/Taejin1221/MachineLearning/blob/master/Handwriting_Number_Classification.ipynb\" target=\"_parent\"><img src=\"https://colab.research.google.com/assets/colab-badge.svg\" alt=\"Open In Colab\"/></a>"
      ]
    },
    {
      "cell_type": "code",
      "metadata": {
        "id": "lfuAr95I7U3P"
      },
      "source": [
        "import tensorflow as tf"
      ],
      "execution_count": 1,
      "outputs": []
    },
    {
      "cell_type": "code",
      "metadata": {
        "id": "vpMLK3Kq7U3U",
        "colab": {
          "base_uri": "https://localhost:8080/"
        },
        "outputId": "aeed5142-4a84-4817-c86d-85e96fce195e"
      },
      "source": [
        "( x_train, y_train ), ( x_test, y_test ) = tf.keras.datasets.mnist.load_data()\n",
        "\n",
        "x_train = x_train / 255.0\n",
        "x_test = x_test / 255.0\n",
        "\n",
        "x_train = x_train.reshape( -1, 28, 28, 1  )\n",
        "x_test = x_test.reshape( -1, 28, 28, 1 )\n",
        "\n",
        "y_train = tf.keras.utils.to_categorical( y_train, 10 )\n",
        "y_test = tf.keras.utils.to_categorical( y_test, 10 )\n",
        "print( x_train.shape, y_train.shape )"
      ],
      "execution_count": 2,
      "outputs": [
        {
          "output_type": "stream",
          "text": [
            "Downloading data from https://storage.googleapis.com/tensorflow/tf-keras-datasets/mnist.npz\n",
            "11493376/11490434 [==============================] - 0s 0us/step\n",
            "(60000, 28, 28, 1) (60000, 10)\n"
          ],
          "name": "stdout"
        }
      ]
    },
    {
      "cell_type": "code",
      "metadata": {
        "id": "U3QSWVuD7U3V"
      },
      "source": [
        "learning_rate = 0.001\n",
        "training_epochs = 15\n",
        "batch_size = 100"
      ],
      "execution_count": 3,
      "outputs": []
    },
    {
      "cell_type": "code",
      "metadata": {
        "id": "eW1xD3oG7U3W"
      },
      "source": [
        "m1 = tf.keras.Sequential()"
      ],
      "execution_count": 4,
      "outputs": []
    },
    {
      "cell_type": "code",
      "metadata": {
        "id": "WNSH3k6B7U3W"
      },
      "source": [
        "# layer 1\n",
        "m1.add( tf.keras.layers.Conv2D( filters = 32, kernel_size = [ 3, 3 ],\n",
        "                               padding = 'SAME', activation = 'relu' ) )\n",
        "m1.add( tf.keras.layers.MaxPooling2D( pool_size = [ 2, 2 ],\n",
        "                                    padding = 'SAME', strides = 2 ) )\n",
        "m1.add( tf.keras.layers.Dropout( 0.3 ) )\n",
        "\n",
        "# layer 2\n",
        "m1.add( tf.keras.layers.Conv2D( filters = 64, kernel_size = [ 3, 3 ],\n",
        "                              padding = 'SAME', activation = 'relu' ) )\n",
        "m1.add( tf.keras.layers.MaxPooling2D( pool_size = [ 2, 2 ],\n",
        "                                    padding = 'SAME', strides = 2 ) )\n",
        "m1.add( tf.keras.layers.Dropout( 0.3 ) )\n",
        "\n",
        "# layer 3\n",
        "m1.add( tf.keras.layers.Conv2D( filters = 128, kernel_size = [ 3, 3 ],\n",
        "                              padding = 'SAME', activation = 'relu' ) )\n",
        "m1.add( tf.keras.layers.MaxPooling2D( pool_size = [ 2, 2 ],\n",
        "                                    padding = 'SAME', strides = 2 ) )\n",
        "m1.add( tf.keras.layers.Dropout( 0.3 ) )\n",
        "\n",
        "# Fully connected Layer\n",
        "m1.add( tf.keras.layers.Flatten() )\n",
        "m1.add( tf.keras.layers.Dense( units = 625, activation = 'relu' ) )\n",
        "m1.add( tf.keras.layers.Dropout( 0.5 ) )\n",
        "\n",
        "# Output Layer\n",
        "m1.add( tf.keras.layers.Dense( units = 10, activation = 'softmax' ) )"
      ],
      "execution_count": 5,
      "outputs": []
    },
    {
      "cell_type": "code",
      "metadata": {
        "scrolled": true,
        "id": "y51fLXvN7U3W",
        "colab": {
          "base_uri": "https://localhost:8080/"
        },
        "outputId": "cac376b9-b2de-4988-fb23-5a7d4b8d1432"
      },
      "source": [
        "m1.compile( loss = 'categorical_crossentropy',\n",
        "           optimizer = tf.keras.optimizers.Adam( learning_rate ),\n",
        "           metrics = [ 'accuracy' ] )\n",
        "\n",
        "m1.fit( x_train, y_train, batch_size = batch_size, epochs = training_epochs )"
      ],
      "execution_count": 6,
      "outputs": [
        {
          "output_type": "stream",
          "text": [
            "Epoch 1/15\n",
            "600/600 [==============================] - 10s 5ms/step - loss: 0.6059 - accuracy: 0.7919\n",
            "Epoch 2/15\n",
            "600/600 [==============================] - 3s 5ms/step - loss: 0.0901 - accuracy: 0.9720\n",
            "Epoch 3/15\n",
            "600/600 [==============================] - 3s 5ms/step - loss: 0.0667 - accuracy: 0.9785\n",
            "Epoch 4/15\n",
            "600/600 [==============================] - 3s 5ms/step - loss: 0.0521 - accuracy: 0.9839\n",
            "Epoch 5/15\n",
            "600/600 [==============================] - 3s 5ms/step - loss: 0.0509 - accuracy: 0.9845\n",
            "Epoch 6/15\n",
            "600/600 [==============================] - 3s 5ms/step - loss: 0.0424 - accuracy: 0.9870\n",
            "Epoch 7/15\n",
            "600/600 [==============================] - 3s 5ms/step - loss: 0.0382 - accuracy: 0.9884\n",
            "Epoch 8/15\n",
            "600/600 [==============================] - 3s 5ms/step - loss: 0.0345 - accuracy: 0.9891\n",
            "Epoch 9/15\n",
            "600/600 [==============================] - 3s 5ms/step - loss: 0.0342 - accuracy: 0.9895\n",
            "Epoch 10/15\n",
            "600/600 [==============================] - 3s 5ms/step - loss: 0.0341 - accuracy: 0.9889\n",
            "Epoch 11/15\n",
            "600/600 [==============================] - 3s 5ms/step - loss: 0.0303 - accuracy: 0.9900\n",
            "Epoch 12/15\n",
            "600/600 [==============================] - 3s 5ms/step - loss: 0.0260 - accuracy: 0.9915\n",
            "Epoch 13/15\n",
            "600/600 [==============================] - 3s 5ms/step - loss: 0.0267 - accuracy: 0.9909\n",
            "Epoch 14/15\n",
            "600/600 [==============================] - 3s 5ms/step - loss: 0.0272 - accuracy: 0.9919\n",
            "Epoch 15/15\n",
            "600/600 [==============================] - 3s 5ms/step - loss: 0.0239 - accuracy: 0.9925\n"
          ],
          "name": "stdout"
        },
        {
          "output_type": "execute_result",
          "data": {
            "text/plain": [
              "<tensorflow.python.keras.callbacks.History at 0x7f85f222f550>"
            ]
          },
          "metadata": {
            "tags": []
          },
          "execution_count": 6
        }
      ]
    },
    {
      "cell_type": "code",
      "metadata": {
        "id": "5kYKZx9G7U3X",
        "colab": {
          "base_uri": "https://localhost:8080/"
        },
        "outputId": "68fb709f-0561-495a-ebb4-54f521f84d1c"
      },
      "source": [
        "evaluation = m1.evaluate( x_test, y_test )\n",
        "print( 'loss: {:.9f}, Accuracy: {:.2f}%'.format( evaluation[0], evaluation[1] * 100 ) )"
      ],
      "execution_count": 7,
      "outputs": [
        {
          "output_type": "stream",
          "text": [
            "313/313 [==============================] - 1s 2ms/step - loss: 0.0183 - accuracy: 0.9942\n",
            "loss: 0.018290440, Accuracy: 99.42%\n"
          ],
          "name": "stdout"
        }
      ]
    },
    {
      "cell_type": "code",
      "metadata": {
        "id": "R4bdIh2Y7X1_",
        "colab": {
          "base_uri": "https://localhost:8080/",
          "height": 247
        },
        "outputId": "cc8b58a0-bcfa-4ed3-d9fc-5cfc0762e67f"
      },
      "source": [
        "import cv2, os, glob\r\n",
        "import numpy as np\r\n",
        "from google.colab.patches import cv2_imshow\r\n",
        "\r\n",
        "originFiles = glob.glob( '*png' )\r\n",
        "originFiles.sort()\r\n",
        "\r\n",
        "processedFiles = [ ]\r\n",
        "for file in originFiles:\r\n",
        "    img = cv2.imread( file, 0 )\r\n",
        "    img = cv2.bitwise_not( img )\r\n",
        "    img = cv2.resize( img, ( 28, 28 ), interpolation = cv2.INTER_AREA )\r\n",
        "    print( img.shape )\r\n",
        "    cv2_imshow( img )\r\n",
        "    processedFiles.append( img )\r\n",
        "\r\n",
        "files = np.array( processedFiles )\r\n",
        "files = files.astype( 'float32' ) / 255.\r\n",
        "files = np.reshape( files, ( len( originFiles ), 28, 28, 1 ) )"
      ],
      "execution_count": 93,
      "outputs": [
        {
          "output_type": "stream",
          "text": [
            "(28, 28)\n"
          ],
          "name": "stdout"
        },
        {
          "output_type": "display_data",
          "data": {
            "image/png": "[encoded data removed]",
            "text/plain": [
              "<PIL.Image.Image image mode=L size=28x28 at 0x7F8592230710>"
            ]
          },
          "metadata": {
            "tags": []
          }
        },
        {
          "output_type": "stream",
          "text": [
            "(28, 28)\n"
          ],
          "name": "stdout"
        },
        {
          "output_type": "display_data",
          "data": {
            "image/png": "[encoded data removed]",
            "text/plain": [
              "<PIL.Image.Image image mode=L size=28x28 at 0x7F8592230710>"
            ]
          },
          "metadata": {
            "tags": []
          }
        },
        {
          "output_type": "stream",
          "text": [
            "(28, 28)\n"
          ],
          "name": "stdout"
        },
        {
          "output_type": "display_data",
          "data": {
            "image/png": "[encoded data removed]",
            "text/plain": [
              "<PIL.Image.Image image mode=L size=28x28 at 0x7F8592230710>"
            ]
          },
          "metadata": {
            "tags": []
          }
        },
        {
          "output_type": "stream",
          "text": [
            "(28, 28)\n"
          ],
          "name": "stdout"
        },
        {
          "output_type": "display_data",
          "data": {
            "image/png": "[encoded data removed]",
            "text/plain": [
              "<PIL.Image.Image image mode=L size=28x28 at 0x7F859224C5F8>"
            ]
          },
          "metadata": {
            "tags": []
          }
        },
        {
          "output_type": "stream",
          "text": [
            "(28, 28)\n"
          ],
          "name": "stdout"
        },
        {
          "output_type": "display_data",
          "data": {
            "image/png": "[encoded data removed]",
            "text/plain": [
              "<PIL.Image.Image image mode=L size=28x28 at 0x7F859224C5C0>"
            ]
          },
          "metadata": {
            "tags": []
          }
        }
      ]
    },
    {
      "cell_type": "code",
      "metadata": {
        "id": "Jjmr58KL8PW-",
        "colab": {
          "base_uri": "https://localhost:8080/"
        },
        "outputId": "fc741f4c-d971-409b-95a7-527da4ebce11"
      },
      "source": [
        "predictedData = m1.predict( files )\r\n",
        "for data in predictedData:\r\n",
        "    tf.print( tf.argmax( data, 0 ) )"
      ],
      "execution_count": 94,
      "outputs": [
        {
          "output_type": "stream",
          "text": [
            "1\n",
            "2\n",
            "3\n",
            "5\n",
            "8\n"
          ],
          "name": "stdout"
        }
      ]
    }
  ]
}