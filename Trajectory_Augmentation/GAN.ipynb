{
  "nbformat": 4,
  "nbformat_minor": 0,
  "metadata": {
    "colab": {
      "name": "GAN.ipynb",
      "provenance": [],
      "collapsed_sections": [],
      "toc_visible": true,
      "authorship_tag": "ABX9TyP2cMXJXe60ttsxDVKy0xKt",
      "include_colab_link": true
    },
    "kernelspec": {
      "name": "python3",
      "display_name": "Python 3"
    },
    "accelerator": "GPU"
  },
  "cells": [
    {
      "cell_type": "markdown",
      "metadata": {
        "id": "view-in-github",
        "colab_type": "text"
      },
      "source": [
        "<a href=\"https://colab.research.google.com/github/Taejin1221/MachineLearning/blob/master/Trajectory_Augmentation/GAN.ipynb\" target=\"_parent\"><img src=\"https://colab.research.google.com/assets/colab-badge.svg\" alt=\"Open In Colab\"/></a>"
      ]
    },
    {
      "cell_type": "markdown",
      "metadata": {
        "id": "2ir0MzpcMsuH"
      },
      "source": [
        "# Import Modules"
      ]
    },
    {
      "cell_type": "code",
      "metadata": {
        "id": "C8ArzIVRLo_5"
      },
      "source": [
        "import glob, time, cv2, os\n",
        "import numpy as np\n",
        "import matplotlib.pyplot as plt"
      ],
      "execution_count": 1,
      "outputs": []
    },
    {
      "cell_type": "code",
      "metadata": {
        "id": "gzcOKcYOBJMq"
      },
      "source": [
        "CURR_DIR = '/content/'\n",
        "\n",
        "X_DATA_DIR =  CURR_DIR + 'train_x_data'\n",
        "Y_DATA_DIR = CURR_DIR + 'train_y_data'\n",
        "TEST_DIR = CURR_DIR + 'test_data'"
      ],
      "execution_count": 2,
      "outputs": []
    },
    {
      "cell_type": "code",
      "metadata": {
        "id": "IOGio1_EBKL3"
      },
      "source": [
        "IMG_SIZE = 256"
      ],
      "execution_count": 3,
      "outputs": []
    },
    {
      "cell_type": "markdown",
      "metadata": {
        "id": "1KjYfu9MMih-"
      },
      "source": [
        "# Make Data"
      ]
    },
    {
      "cell_type": "code",
      "metadata": {
        "id": "4EPR2-XV7NGg"
      },
      "source": [
        "x_data = np.linspace( -10, 10, 50 )\n",
        "\n",
        "y_data1 = x_data\n",
        "y_data2 = x_data ** 2\n",
        "y_data3 = x_data ** 3 \n",
        "\n",
        "Y_data = [ y_data1, y_data2, y_data3 ]"
      ],
      "execution_count": 4,
      "outputs": []
    },
    {
      "cell_type": "code",
      "metadata": {
        "id": "7cGIJqsmIWlL"
      },
      "source": [
        "file_list = os.listdir(  )\n",
        "\n",
        "if ( X_DATA_DIR not in file_list ):\n",
        "    os.mkdir( X_DATA_DIR )\n",
        "\n",
        "if ( Y_DATA_DIR not in file_list ):\n",
        "    os.mkdir( Y_DATA_DIR )\n",
        "\n",
        "if ( TEST_DIR not in file_list ):\n",
        "    os.mkdir( TEST_DIR )"
      ],
      "execution_count": 5,
      "outputs": []
    },
    {
      "cell_type": "code",
      "metadata": {
        "colab": {
          "base_uri": "https://localhost:8080/",
          "height": 717
        },
        "id": "JOBgcczT7PgW",
        "outputId": "e311f6af-5ba0-4db1-e64a-da1eee43f08d"
      },
      "source": [
        "n = len( Y_data ) * 10\n",
        "\n",
        "figSize = ( IMG_SIZE / 100, IMG_SIZE / 100 )\n",
        "\n",
        "os.chdir( X_DATA_DIR )\n",
        "for i in range( n ):\n",
        "    plt.figure( figsize = figSize, dpi = 100 )\n",
        "\n",
        "    plt.plot( x_data, Y_data[i // 10], 'k.' )\n",
        "    plt.axis( [ -10, 10, -50, 50 ] )\n",
        "    plt.axis( 'off' )\n",
        "\n",
        "    fileName = '0' + str( i ) if i < 10 else i\n",
        "    plt.savefig( f'graph_x_{ fileName }.png'  )\n",
        "    plt.clf()\n",
        "    plt.close()\n",
        "\n",
        "os.chdir( Y_DATA_DIR )\n",
        "for i in range( n ):\n",
        "    plt.figure( figsize = figSize, dpi = 100 )\n",
        "\n",
        "    plt.plot( x_data, Y_data[i // 10], 'k-' )\n",
        "    plt.axis( [ -10, 10, -50, 50 ] )\n",
        "    plt.axis( 'off' )\n",
        "\n",
        "    fileName = '0' + str( i ) if i < 10 else i\n",
        "    plt.savefig( f'graph_y_{ fileName }.png'  )\n",
        "    plt.clf()\n",
        "    plt.close"
      ],
      "execution_count": 6,
      "outputs": [
        {
          "output_type": "stream",
          "text": [
            "/usr/local/lib/python3.6/dist-packages/ipykernel_launcher.py:20: RuntimeWarning: More than 20 figures have been opened. Figures created through the pyplot interface (`matplotlib.pyplot.figure`) are retained until explicitly closed and may consume too much memory. (To control this warning, see the rcParam `figure.max_open_warning`).\n",
            "/usr/local/lib/python3.6/dist-packages/ipykernel_launcher.py:20: RuntimeWarning: More than 20 figures have been opened. Figures created through the pyplot interface (`matplotlib.pyplot.figure`) are retained until explicitly closed and may consume too much memory. (To control this warning, see the rcParam `figure.max_open_warning`).\n",
            "/usr/local/lib/python3.6/dist-packages/ipykernel_launcher.py:20: RuntimeWarning: More than 20 figures have been opened. Figures created through the pyplot interface (`matplotlib.pyplot.figure`) are retained until explicitly closed and may consume too much memory. (To control this warning, see the rcParam `figure.max_open_warning`).\n",
            "/usr/local/lib/python3.6/dist-packages/ipykernel_launcher.py:20: RuntimeWarning: More than 20 figures have been opened. Figures created through the pyplot interface (`matplotlib.pyplot.figure`) are retained until explicitly closed and may consume too much memory. (To control this warning, see the rcParam `figure.max_open_warning`).\n",
            "/usr/local/lib/python3.6/dist-packages/ipykernel_launcher.py:20: RuntimeWarning: More than 20 figures have been opened. Figures created through the pyplot interface (`matplotlib.pyplot.figure`) are retained until explicitly closed and may consume too much memory. (To control this warning, see the rcParam `figure.max_open_warning`).\n",
            "/usr/local/lib/python3.6/dist-packages/ipykernel_launcher.py:20: RuntimeWarning: More than 20 figures have been opened. Figures created through the pyplot interface (`matplotlib.pyplot.figure`) are retained until explicitly closed and may consume too much memory. (To control this warning, see the rcParam `figure.max_open_warning`).\n",
            "/usr/local/lib/python3.6/dist-packages/ipykernel_launcher.py:20: RuntimeWarning: More than 20 figures have been opened. Figures created through the pyplot interface (`matplotlib.pyplot.figure`) are retained until explicitly closed and may consume too much memory. (To control this warning, see the rcParam `figure.max_open_warning`).\n",
            "/usr/local/lib/python3.6/dist-packages/ipykernel_launcher.py:20: RuntimeWarning: More than 20 figures have been opened. Figures created through the pyplot interface (`matplotlib.pyplot.figure`) are retained until explicitly closed and may consume too much memory. (To control this warning, see the rcParam `figure.max_open_warning`).\n",
            "/usr/local/lib/python3.6/dist-packages/ipykernel_launcher.py:20: RuntimeWarning: More than 20 figures have been opened. Figures created through the pyplot interface (`matplotlib.pyplot.figure`) are retained until explicitly closed and may consume too much memory. (To control this warning, see the rcParam `figure.max_open_warning`).\n",
            "/usr/local/lib/python3.6/dist-packages/ipykernel_launcher.py:20: RuntimeWarning: More than 20 figures have been opened. Figures created through the pyplot interface (`matplotlib.pyplot.figure`) are retained until explicitly closed and may consume too much memory. (To control this warning, see the rcParam `figure.max_open_warning`).\n"
          ],
          "name": "stderr"
        },
        {
          "output_type": "display_data",
          "data": {
            "text/plain": [
              "<Figure size 256x256 with 0 Axes>"
            ]
          },
          "metadata": {
            "tags": []
          }
        },
        {
          "output_type": "display_data",
          "data": {
            "text/plain": [
              "<Figure size 256x256 with 0 Axes>"
            ]
          },
          "metadata": {
            "tags": []
          }
        },
        {
          "output_type": "display_data",
          "data": {
            "text/plain": [
              "<Figure size 256x256 with 0 Axes>"
            ]
          },
          "metadata": {
            "tags": []
          }
        },
        {
          "output_type": "display_data",
          "data": {
            "text/plain": [
              "<Figure size 256x256 with 0 Axes>"
            ]
          },
          "metadata": {
            "tags": []
          }
        },
        {
          "output_type": "display_data",
          "data": {
            "text/plain": [
              "<Figure size 256x256 with 0 Axes>"
            ]
          },
          "metadata": {
            "tags": []
          }
        },
        {
          "output_type": "display_data",
          "data": {
            "text/plain": [
              "<Figure size 256x256 with 0 Axes>"
            ]
          },
          "metadata": {
            "tags": []
          }
        },
        {
          "output_type": "display_data",
          "data": {
            "text/plain": [
              "<Figure size 256x256 with 0 Axes>"
            ]
          },
          "metadata": {
            "tags": []
          }
        },
        {
          "output_type": "display_data",
          "data": {
            "text/plain": [
              "<Figure size 256x256 with 0 Axes>"
            ]
          },
          "metadata": {
            "tags": []
          }
        },
        {
          "output_type": "display_data",
          "data": {
            "text/plain": [
              "<Figure size 256x256 with 0 Axes>"
            ]
          },
          "metadata": {
            "tags": []
          }
        },
        {
          "output_type": "display_data",
          "data": {
            "text/plain": [
              "<Figure size 256x256 with 0 Axes>"
            ]
          },
          "metadata": {
            "tags": []
          }
        },
        {
          "output_type": "display_data",
          "data": {
            "text/plain": [
              "<Figure size 256x256 with 0 Axes>"
            ]
          },
          "metadata": {
            "tags": []
          }
        },
        {
          "output_type": "display_data",
          "data": {
            "text/plain": [
              "<Figure size 256x256 with 0 Axes>"
            ]
          },
          "metadata": {
            "tags": []
          }
        },
        {
          "output_type": "display_data",
          "data": {
            "text/plain": [
              "<Figure size 256x256 with 0 Axes>"
            ]
          },
          "metadata": {
            "tags": []
          }
        },
        {
          "output_type": "display_data",
          "data": {
            "text/plain": [
              "<Figure size 256x256 with 0 Axes>"
            ]
          },
          "metadata": {
            "tags": []
          }
        },
        {
          "output_type": "display_data",
          "data": {
            "text/plain": [
              "<Figure size 256x256 with 0 Axes>"
            ]
          },
          "metadata": {
            "tags": []
          }
        },
        {
          "output_type": "display_data",
          "data": {
            "text/plain": [
              "<Figure size 256x256 with 0 Axes>"
            ]
          },
          "metadata": {
            "tags": []
          }
        },
        {
          "output_type": "display_data",
          "data": {
            "text/plain": [
              "<Figure size 256x256 with 0 Axes>"
            ]
          },
          "metadata": {
            "tags": []
          }
        },
        {
          "output_type": "display_data",
          "data": {
            "text/plain": [
              "<Figure size 256x256 with 0 Axes>"
            ]
          },
          "metadata": {
            "tags": []
          }
        },
        {
          "output_type": "display_data",
          "data": {
            "text/plain": [
              "<Figure size 256x256 with 0 Axes>"
            ]
          },
          "metadata": {
            "tags": []
          }
        },
        {
          "output_type": "display_data",
          "data": {
            "text/plain": [
              "<Figure size 256x256 with 0 Axes>"
            ]
          },
          "metadata": {
            "tags": []
          }
        },
        {
          "output_type": "display_data",
          "data": {
            "text/plain": [
              "<Figure size 256x256 with 0 Axes>"
            ]
          },
          "metadata": {
            "tags": []
          }
        },
        {
          "output_type": "display_data",
          "data": {
            "text/plain": [
              "<Figure size 256x256 with 0 Axes>"
            ]
          },
          "metadata": {
            "tags": []
          }
        },
        {
          "output_type": "display_data",
          "data": {
            "text/plain": [
              "<Figure size 256x256 with 0 Axes>"
            ]
          },
          "metadata": {
            "tags": []
          }
        },
        {
          "output_type": "display_data",
          "data": {
            "text/plain": [
              "<Figure size 256x256 with 0 Axes>"
            ]
          },
          "metadata": {
            "tags": []
          }
        },
        {
          "output_type": "display_data",
          "data": {
            "text/plain": [
              "<Figure size 256x256 with 0 Axes>"
            ]
          },
          "metadata": {
            "tags": []
          }
        },
        {
          "output_type": "display_data",
          "data": {
            "text/plain": [
              "<Figure size 256x256 with 0 Axes>"
            ]
          },
          "metadata": {
            "tags": []
          }
        },
        {
          "output_type": "display_data",
          "data": {
            "text/plain": [
              "<Figure size 256x256 with 0 Axes>"
            ]
          },
          "metadata": {
            "tags": []
          }
        },
        {
          "output_type": "display_data",
          "data": {
            "text/plain": [
              "<Figure size 256x256 with 0 Axes>"
            ]
          },
          "metadata": {
            "tags": []
          }
        },
        {
          "output_type": "display_data",
          "data": {
            "text/plain": [
              "<Figure size 256x256 with 0 Axes>"
            ]
          },
          "metadata": {
            "tags": []
          }
        },
        {
          "output_type": "display_data",
          "data": {
            "text/plain": [
              "<Figure size 256x256 with 0 Axes>"
            ]
          },
          "metadata": {
            "tags": []
          }
        }
      ]
    },
    {
      "cell_type": "code",
      "metadata": {
        "colab": {
          "base_uri": "https://localhost:8080/",
          "height": 68
        },
        "id": "nCaLyVaZ7Ri6",
        "outputId": "c52ce1d4-a75e-45c4-defd-b06c92583569"
      },
      "source": [
        "dataSize = len( x_data )\n",
        "os.chdir( TEST_DIR )\n",
        "\n",
        "plt.figure( figsize = figSize, dpi = 100 )\n",
        "\n",
        "plt.plot( [ -2, 0, 2 ], [ -2, 0, 2 ], 'k.' )\n",
        "plt.axis( [ -10, 10, -50, 50 ] )\n",
        "plt.axis( 'off' )\n",
        "\n",
        "plt.savefig( f'graph_test_0.png'  )\n",
        "plt.clf()\n",
        "\n",
        "\n",
        "plt.figure( figsize = figSize, dpi = 100 )\n",
        "\n",
        "plt.plot( [ -2, 0, 2 ], [ 4, 0, 4 ], 'k.' )\n",
        "plt.axis( 'off' )\n",
        "\n",
        "plt.savefig( f'graph_test_1.png'  )\n",
        "plt.clf()\n",
        "\n",
        "\n",
        "plt.figure( figsize = figSize, dpi = 100 )\n",
        "\n",
        "plt.plot( [ -2, 0, 2 ], [ -8, 0, 8 ], 'k.' )\n",
        "plt.axis( 'off' )\n",
        "\n",
        "plt.savefig( f'graph_test_2.png'  )\n",
        "plt.clf()\n"
      ],
      "execution_count": 7,
      "outputs": [
        {
          "output_type": "display_data",
          "data": {
            "text/plain": [
              "<Figure size 256x256 with 0 Axes>"
            ]
          },
          "metadata": {
            "tags": []
          }
        },
        {
          "output_type": "display_data",
          "data": {
            "text/plain": [
              "<Figure size 256x256 with 0 Axes>"
            ]
          },
          "metadata": {
            "tags": []
          }
        },
        {
          "output_type": "display_data",
          "data": {
            "text/plain": [
              "<Figure size 256x256 with 0 Axes>"
            ]
          },
          "metadata": {
            "tags": []
          }
        }
      ]
    },
    {
      "cell_type": "markdown",
      "metadata": {
        "id": "xzp0v_erBDaC"
      },
      "source": [
        "# Load Data"
      ]
    },
    {
      "cell_type": "code",
      "metadata": {
        "id": "ed5IUDLeMdSc"
      },
      "source": [
        "x_data, y_data = [ ], [ ]\n",
        "x_test = [ ]\n",
        "\n",
        "os.chdir( X_DATA_DIR )\n",
        "files = glob.glob( '*png' )\n",
        "for file in files:\n",
        "    x_data.append( 255 - cv2.imread( file, 0 ) )\n",
        "\n",
        "os.chdir( Y_DATA_DIR )\n",
        "files = glob.glob( '*png' )\n",
        "for file in files:\n",
        "    y_data.append( 255 - cv2.imread( file, 0 ) )\n",
        "\n",
        "os.chdir( TEST_DIR )\n",
        "files = glob.glob( '*png' )\n",
        "for file in files:\n",
        "    x_test.append( 255 - cv2.imread( file, 0 ) )"
      ],
      "execution_count": 8,
      "outputs": []
    },
    {
      "cell_type": "code",
      "metadata": {
        "colab": {
          "base_uri": "https://localhost:8080/",
          "height": 273
        },
        "id": "3ggCCceoMaeY",
        "outputId": "ae92d65b-ae65-4a33-ee98-7318127bdade"
      },
      "source": [
        "from google.colab.patches import cv2_imshow\n",
        "\n",
        "cv2_imshow( x_data[0] )"
      ],
      "execution_count": 9,
      "outputs": [
        {
          "output_type": "display_data",
          "data": {
            "image/png": "[encoded data removed]",
            "text/plain": [
              "<PIL.Image.Image image mode=L size=256x256 at 0x7F72DE46D710>"
            ]
          },
          "metadata": {
            "tags": []
          }
        }
      ]
    },
    {
      "cell_type": "code",
      "metadata": {
        "id": "EfrEfsPJ_asf"
      },
      "source": [
        "x_data = np.array( x_data )\n",
        "y_data = np.array( y_data )\n",
        "x_test = np.array( x_test )\n",
        "\n",
        "x_data = x_data.astype( 'float32' ) / 255.\n",
        "y_data = y_data.astype( 'float32' ) / 255.\n",
        "x_test = x_test.astype( 'float32' ) / 255.\n",
        "\n",
        "x_data = np.reshape( x_data, ( len( x_data ), IMG_SIZE, IMG_SIZE, 1 ) )\n",
        "y_data = np.reshape( y_data, ( len( y_data ), IMG_SIZE, IMG_SIZE, 1 ) )\n",
        "x_test = np.reshape( x_test, ( len( x_test ), IMG_SIZE, IMG_SIZE, 1 ) )"
      ],
      "execution_count": 10,
      "outputs": []
    },
    {
      "cell_type": "code",
      "metadata": {
        "colab": {
          "base_uri": "https://localhost:8080/"
        },
        "id": "V6KDeGudBwUr",
        "outputId": "9053d398-fe6f-4b59-aff3-bd70256890c8"
      },
      "source": [
        "x_data.shape"
      ],
      "execution_count": 11,
      "outputs": [
        {
          "output_type": "execute_result",
          "data": {
            "text/plain": [
              "(30, 256, 256, 1)"
            ]
          },
          "metadata": {
            "tags": []
          },
          "execution_count": 11
        }
      ]
    },
    {
      "cell_type": "markdown",
      "metadata": {
        "id": "fo4B8Nd-NBKZ"
      },
      "source": [
        "# Build Models"
      ]
    },
    {
      "cell_type": "code",
      "metadata": {
        "id": "Av8962le7keX"
      },
      "source": [
        "import tensorflow as tf\n",
        "from tensorflow import keras\n",
        "from tensorflow.keras import layers"
      ],
      "execution_count": 12,
      "outputs": []
    },
    {
      "cell_type": "code",
      "metadata": {
        "id": "Etp3cQtV_o4C"
      },
      "source": [
        "BUFFER_SIZE = 30\n",
        "BATCH_SIZE = 10\n",
        "train_dataset = tf.data.Dataset.from_tensor_slices(x_data).shuffle(BUFFER_SIZE).batch(BATCH_SIZE)"
      ],
      "execution_count": 13,
      "outputs": []
    },
    {
      "cell_type": "markdown",
      "metadata": {
        "id": "BclHsCvaND9x"
      },
      "source": [
        "## Build Generator Model"
      ]
    },
    {
      "cell_type": "code",
      "metadata": {
        "id": "iK8p37IYMd9z"
      },
      "source": [
        "generator = keras.Sequential( name = 'generator' )\n",
        "\n",
        "generator.add( layers.Input( [ IMG_SIZE, IMG_SIZE, 1 ] ) )\n",
        "\n",
        "# output shape ( 128, 128, 32 )\n",
        "generator.add( layers.Conv2DTranspose( 32, ( 5, 5 ), padding = 'same', use_bias = False ) )\n",
        "generator.add( layers.BatchNormalization( ) )\n",
        "generator.add( layers.LeakyReLU( ) )\n",
        "\n",
        "# output shape ( 64, 64, 64 )\n",
        "generator.add( layers.Conv2DTranspose( 64, ( 5, 5 ), padding = 'same', use_bias = False ) )\n",
        "generator.add( layers.BatchNormalization( ) )\n",
        "generator.add( layers.LeakyReLU( ) )\n",
        "\n",
        " # output shape ( 128, 128, 64 )\n",
        "generator.add( layers.Conv2DTranspose( 128, ( 5, 5 ), padding = 'same', use_bias = False ) )\n",
        "generator.add( layers.BatchNormalization( ) )\n",
        "generator.add( layers.LeakyReLU( ) )\n",
        "\n",
        "# output shape ( 256, 256, 32 )\n",
        "generator.add( layers.Conv2DTranspose( 256, ( 5, 5 ), padding = 'same', use_bias = False ) )\n",
        "generator.add( layers.BatchNormalization( ) )\n",
        "generator.add( layers.LeakyReLU( ) )\n",
        "\n",
        "# output shape ( 256, 256, 1 )\n",
        "generator.add( layers.Conv2DTranspose( 1, ( 5, 5 ), padding = 'same', use_bias = False, activation = 'tanh' ) )"
      ],
      "execution_count": 14,
      "outputs": []
    },
    {
      "cell_type": "code",
      "metadata": {
        "colab": {
          "base_uri": "https://localhost:8080/"
        },
        "id": "scITGONbOf_N",
        "outputId": "0d766add-1b3a-4eb2-ee2b-92692d755c78"
      },
      "source": [
        "# generator.compile( )\n",
        "# generator.summary()"
      ],
      "execution_count": 28,
      "outputs": [
        {
          "output_type": "stream",
          "text": [
            "Model: \"generator\"\n",
            "_________________________________________________________________\n",
            "Layer (type)                 Output Shape              Param #   \n",
            "=================================================================\n",
            "conv2d_transpose (Conv2DTran (None, 256, 256, 32)      800       \n",
            "_________________________________________________________________\n",
            "batch_normalization (BatchNo (None, 256, 256, 32)      128       \n",
            "_________________________________________________________________\n",
            "leaky_re_lu (LeakyReLU)      (None, 256, 256, 32)      0         \n",
            "_________________________________________________________________\n",
            "conv2d_transpose_1 (Conv2DTr (None, 256, 256, 64)      51200     \n",
            "_________________________________________________________________\n",
            "batch_normalization_1 (Batch (None, 256, 256, 64)      256       \n",
            "_________________________________________________________________\n",
            "leaky_re_lu_1 (LeakyReLU)    (None, 256, 256, 64)      0         \n",
            "_________________________________________________________________\n",
            "conv2d_transpose_2 (Conv2DTr (None, 256, 256, 128)     204800    \n",
            "_________________________________________________________________\n",
            "batch_normalization_2 (Batch (None, 256, 256, 128)     512       \n",
            "_________________________________________________________________\n",
            "leaky_re_lu_2 (LeakyReLU)    (None, 256, 256, 128)     0         \n",
            "_________________________________________________________________\n",
            "conv2d_transpose_3 (Conv2DTr (None, 256, 256, 256)     819200    \n",
            "_________________________________________________________________\n",
            "batch_normalization_3 (Batch (None, 256, 256, 256)     1024      \n",
            "_________________________________________________________________\n",
            "leaky_re_lu_3 (LeakyReLU)    (None, 256, 256, 256)     0         \n",
            "_________________________________________________________________\n",
            "conv2d_transpose_4 (Conv2DTr (None, 256, 256, 1)       6400      \n",
            "=================================================================\n",
            "Total params: 1,084,320\n",
            "Trainable params: 1,083,360\n",
            "Non-trainable params: 960\n",
            "_________________________________________________________________\n"
          ],
          "name": "stdout"
        }
      ]
    },
    {
      "cell_type": "code",
      "metadata": {
        "colab": {
          "base_uri": "https://localhost:8080/",
          "height": 286
        },
        "id": "FWA0TGM7FIDj",
        "outputId": "8e4d2068-dd5c-401c-85db-0fb510355271"
      },
      "source": [
        "noise = tf.random.normal( [ 1, IMG_SIZE, IMG_SIZE, 1 ] )\n",
        "generated_image = generator( noise, training = False )\n",
        "\n",
        "plt.imshow( generated_image[ 0, :, :, 0 ], cmap = 'gray' )"
      ],
      "execution_count": 16,
      "outputs": [
        {
          "output_type": "execute_result",
          "data": {
            "text/plain": [
              "<matplotlib.image.AxesImage at 0x7f72900e30b8>"
            ]
          },
          "metadata": {
            "tags": []
          },
          "execution_count": 16
        },
        {
          "output_type": "display_data",
          "data": {
            "image/png": "[encoded data removed]",
            "text/plain": [
              "<Figure size 432x288 with 1 Axes>"
            ]
          },
          "metadata": {
            "tags": [],
            "needs_background": "light"
          }
        }
      ]
    },
    {
      "cell_type": "code",
      "metadata": {
        "colab": {
          "base_uri": "https://localhost:8080/"
        },
        "id": "-89zYlDHObUY",
        "outputId": "73a0f379-94db-4096-9fe7-254669442087"
      },
      "source": [
        "generated_image.shape"
      ],
      "execution_count": 17,
      "outputs": [
        {
          "output_type": "execute_result",
          "data": {
            "text/plain": [
              "TensorShape([1, 256, 256, 1])"
            ]
          },
          "metadata": {
            "tags": []
          },
          "execution_count": 17
        }
      ]
    },
    {
      "cell_type": "markdown",
      "metadata": {
        "id": "5lsNI6l7NHS_"
      },
      "source": [
        "## Build Discriminator Model"
      ]
    },
    {
      "cell_type": "code",
      "metadata": {
        "id": "59HyNNqKNJa3"
      },
      "source": [
        "discriminator = keras.Sequential( name = 'discriminator' )\n",
        "\n",
        "discriminator.add( layers.Conv2D( 32, ( 5, 5 ), strides = ( 2, 2 ), padding = 'same',\n",
        "                                 input_shape = [ IMG_SIZE, IMG_SIZE, 1 ] ) )\n",
        "discriminator.add( layers.LeakyReLU( ) )\n",
        "discriminator.add( layers.Dropout( 0.3 ) )\n",
        "\n",
        "discriminator.add( layers.Conv2D( 64, ( 5, 5 ), strides = ( 2, 2 ), padding = 'same' ) )\n",
        "discriminator.add( layers.LeakyReLU( ) )\n",
        "discriminator.add( layers.Dropout( 0.3 ) )\n",
        "\n",
        "discriminator.add( layers.Conv2D( 128, ( 5, 5 ), strides = ( 2, 2 ), padding = 'same' ) )\n",
        "discriminator.add( layers.LeakyReLU( ) )\n",
        "discriminator.add( layers.Dropout( 0.3 ) )\n",
        "\n",
        "discriminator.add( layers.Flatten( ) )\n",
        "discriminator.add( layers.Dense( 1 ) )"
      ],
      "execution_count": 18,
      "outputs": []
    },
    {
      "cell_type": "code",
      "metadata": {
        "colab": {
          "base_uri": "https://localhost:8080/"
        },
        "id": "1EI_1S-8Hfiu",
        "outputId": "10ae958b-85d7-4686-9565-9eca25d451d1"
      },
      "source": [
        "decision = discriminator( generated_image )\n",
        "print( decision )"
      ],
      "execution_count": 19,
      "outputs": [
        {
          "output_type": "stream",
          "text": [
            "tf.Tensor([[0.00947993]], shape=(1, 1), dtype=float32)\n"
          ],
          "name": "stdout"
        }
      ]
    },
    {
      "cell_type": "markdown",
      "metadata": {
        "id": "aFnEebFfJF1f"
      },
      "source": [
        "# Train the models"
      ]
    },
    {
      "cell_type": "markdown",
      "metadata": {
        "id": "HB-qjfM9JZXy"
      },
      "source": [
        "## Define loss and optimizers"
      ]
    },
    {
      "cell_type": "code",
      "metadata": {
        "id": "nCI0SIKBHlCr"
      },
      "source": [
        "cross_entropy = keras.losses.BinaryCrossentropy( from_logits = True )"
      ],
      "execution_count": 20,
      "outputs": []
    },
    {
      "cell_type": "code",
      "metadata": {
        "id": "DgUSGNCNITO-"
      },
      "source": [
        "def discriminator_loss( real_output, fake_output ):\n",
        "    real_loss = cross_entropy( tf.ones_like( real_output ), real_output )\n",
        "    fake_loss = cross_entropy( tf.zeros_like( fake_output ), fake_output )\n",
        "\n",
        "    total_loss = real_loss + fake_loss\n",
        "    \n",
        "    return total_loss\n",
        "\n",
        "def generator_loss( fake_output ):\n",
        "    return cross_entropy( tf.ones_like( fake_output ), fake_output )"
      ],
      "execution_count": 21,
      "outputs": []
    },
    {
      "cell_type": "code",
      "metadata": {
        "id": "pCGCUVSkI57q"
      },
      "source": [
        "generator_optimizer = tf.keras.optimizers.Adam( 1e-4 )\n",
        "discriminator_optimizer = tf.keras.optimizers.Adam( 1e-4 )"
      ],
      "execution_count": 22,
      "outputs": []
    },
    {
      "cell_type": "markdown",
      "metadata": {
        "id": "ePMCxm0GJcAJ"
      },
      "source": [
        "## Define Hyperparameter"
      ]
    },
    {
      "cell_type": "code",
      "metadata": {
        "id": "MC6cFLL8JDM1"
      },
      "source": [
        "EPOCHS = 500\n",
        "noise_dim = 100\n",
        "num_examples_to_generate = 16"
      ],
      "execution_count": 23,
      "outputs": []
    },
    {
      "cell_type": "markdown",
      "metadata": {
        "id": "89WGTyVzKgP-"
      },
      "source": [
        "## Define Train Function"
      ]
    },
    {
      "cell_type": "code",
      "metadata": {
        "id": "tqQpnzlkKf2H"
      },
      "source": [
        "@tf.function\n",
        "def train_step( images ):\n",
        "    noise = tf.random.normal( [ BATCH_SIZE, IMG_SIZE, IMG_SIZE, 1 ] )\n",
        "\n",
        "    with tf.GradientTape( ) as gen_tape, tf.GradientTape( ) as disc_tape:\n",
        "      generated_images = generator( noise, training = True )\n",
        "\n",
        "      real_output = discriminator( images, training = True )\n",
        "      fake_output = discriminator( generated_images, training = True )\n",
        "\n",
        "      gen_loss = generator_loss( fake_output )\n",
        "      disc_loss = discriminator_loss( real_output, fake_output )\n",
        "\n",
        "    gradients_of_generator = gen_tape.gradient( gen_loss, generator.trainable_variables )\n",
        "    gradients_of_discriminator = disc_tape.gradient( disc_loss, discriminator.trainable_variables )\n",
        "\n",
        "    generator_optimizer.apply_gradients( zip( gradients_of_generator, generator.trainable_variables ) )\n",
        "    discriminator_optimizer.apply_gradients( zip( gradients_of_discriminator, discriminator.trainable_variables ) )\n",
        "\n",
        "def train( dataset, epochs ):\n",
        "  for epoch in range( epochs ):\n",
        "    start = time.time( )\n",
        "\n",
        "    for image_batch in dataset:\n",
        "      train_step( image_batch )\n",
        "\n",
        "    print( 'Time for epoch {} is {} sec'.format( epoch + 1, time.time( ) - start ) )"
      ],
      "execution_count": 24,
      "outputs": []
    },
    {
      "cell_type": "code",
      "metadata": {
        "colab": {
          "base_uri": "https://localhost:8080/"
        },
        "id": "LA0NIrgo6xbk",
        "outputId": "9a928913-aca7-4d7e-c8bd-9f30f996a188"
      },
      "source": [
        "train( train_dataset, EPOCHS )"
      ],
      "execution_count": 25,
      "outputs": [
        {
          "output_type": "stream",
          "text": [
            "Time for epoch 1 is 6.804634094238281 sec\n",
            "Time for epoch 2 is 1.6128342151641846 sec\n",
            "Time for epoch 3 is 1.6033201217651367 sec\n",
            "Time for epoch 4 is 1.614579200744629 sec\n",
            "Time for epoch 5 is 1.611891746520996 sec\n",
            "Time for epoch 6 is 1.616546869277954 sec\n",
            "Time for epoch 7 is 1.6171789169311523 sec\n",
            "Time for epoch 8 is 1.6192266941070557 sec\n",
            "Time for epoch 9 is 1.6239733695983887 sec\n",
            "Time for epoch 10 is 1.6236228942871094 sec\n",
            "Time for epoch 11 is 1.6276164054870605 sec\n",
            "Time for epoch 12 is 1.6268198490142822 sec\n",
            "Time for epoch 13 is 1.624039649963379 sec\n",
            "Time for epoch 14 is 1.6341631412506104 sec\n",
            "Time for epoch 15 is 1.63118314743042 sec\n",
            "Time for epoch 16 is 1.6367754936218262 sec\n",
            "Time for epoch 17 is 1.6402244567871094 sec\n",
            "Time for epoch 18 is 1.6418828964233398 sec\n",
            "Time for epoch 19 is 1.6400749683380127 sec\n",
            "Time for epoch 20 is 1.6427876949310303 sec\n",
            "Time for epoch 21 is 1.641834020614624 sec\n",
            "Time for epoch 22 is 1.6416528224945068 sec\n",
            "Time for epoch 23 is 1.6415174007415771 sec\n",
            "Time for epoch 24 is 1.647298812866211 sec\n",
            "Time for epoch 25 is 1.652869701385498 sec\n",
            "Time for epoch 26 is 1.6498520374298096 sec\n",
            "Time for epoch 27 is 1.6553704738616943 sec\n",
            "Time for epoch 28 is 1.6601567268371582 sec\n",
            "Time for epoch 29 is 1.8217923641204834 sec\n",
            "Time for epoch 30 is 1.4955658912658691 sec\n",
            "Time for epoch 31 is 1.661726951599121 sec\n",
            "Time for epoch 32 is 1.660538911819458 sec\n",
            "Time for epoch 33 is 1.6685452461242676 sec\n",
            "Time for epoch 34 is 1.6653835773468018 sec\n",
            "Time for epoch 35 is 1.8525149822235107 sec\n",
            "Time for epoch 36 is 1.4898486137390137 sec\n",
            "Time for epoch 37 is 1.6713671684265137 sec\n",
            "Time for epoch 38 is 1.6734437942504883 sec\n",
            "Time for epoch 39 is 1.6819508075714111 sec\n",
            "Time for epoch 40 is 1.6794300079345703 sec\n",
            "Time for epoch 41 is 1.6849186420440674 sec\n",
            "Time for epoch 42 is 1.6832447052001953 sec\n",
            "Time for epoch 43 is 1.688096046447754 sec\n",
            "Time for epoch 44 is 1.6877553462982178 sec\n",
            "Time for epoch 45 is 1.6886827945709229 sec\n",
            "Time for epoch 46 is 1.695481777191162 sec\n",
            "Time for epoch 47 is 1.8750243186950684 sec\n",
            "Time for epoch 48 is 1.5232350826263428 sec\n",
            "Time for epoch 49 is 1.698937177658081 sec\n",
            "Time for epoch 50 is 1.8745005130767822 sec\n",
            "Time for epoch 51 is 1.5382213592529297 sec\n",
            "Time for epoch 52 is 1.702528476715088 sec\n",
            "Time for epoch 53 is 1.7060410976409912 sec\n",
            "Time for epoch 54 is 1.7070415019989014 sec\n",
            "Time for epoch 55 is 1.7131567001342773 sec\n",
            "Time for epoch 56 is 1.7102313041687012 sec\n",
            "Time for epoch 57 is 1.7181084156036377 sec\n",
            "Time for epoch 58 is 2.2805864810943604 sec\n",
            "Time for epoch 59 is 1.1624233722686768 sec\n",
            "Time for epoch 60 is 1.7231764793395996 sec\n",
            "Time for epoch 61 is 1.7225267887115479 sec\n",
            "Time for epoch 62 is 1.7213547229766846 sec\n",
            "Time for epoch 63 is 1.7205650806427002 sec\n",
            "Time for epoch 64 is 1.7248458862304688 sec\n",
            "Time for epoch 65 is 2.2926058769226074 sec\n",
            "Time for epoch 66 is 1.6899092197418213 sec\n",
            "Time for epoch 67 is 1.2117877006530762 sec\n",
            "Time for epoch 68 is 1.7334604263305664 sec\n",
            "Time for epoch 69 is 1.736433744430542 sec\n",
            "Time for epoch 70 is 1.740346908569336 sec\n",
            "Time for epoch 71 is 1.7473206520080566 sec\n",
            "Time for epoch 72 is 1.7491075992584229 sec\n",
            "Time for epoch 73 is 1.7487618923187256 sec\n",
            "Time for epoch 74 is 1.747584581375122 sec\n",
            "Time for epoch 75 is 1.755558729171753 sec\n",
            "Time for epoch 76 is 1.7600681781768799 sec\n",
            "Time for epoch 77 is 1.7635126113891602 sec\n",
            "Time for epoch 78 is 1.7606370449066162 sec\n",
            "Time for epoch 79 is 1.7654128074645996 sec\n",
            "Time for epoch 80 is 1.765939712524414 sec\n",
            "Time for epoch 81 is 1.7648577690124512 sec\n",
            "Time for epoch 82 is 1.7640495300292969 sec\n",
            "Time for epoch 83 is 1.761798620223999 sec\n",
            "Time for epoch 84 is 1.762603521347046 sec\n",
            "Time for epoch 85 is 1.7642595767974854 sec\n",
            "Time for epoch 86 is 1.763798475265503 sec\n",
            "Time for epoch 87 is 1.7649085521697998 sec\n",
            "Time for epoch 88 is 1.7664804458618164 sec\n",
            "Time for epoch 89 is 1.9508967399597168 sec\n",
            "Time for epoch 90 is 1.77665114402771 sec\n",
            "Time for epoch 91 is 1.5972099304199219 sec\n",
            "Time for epoch 92 is 1.773587942123413 sec\n",
            "Time for epoch 93 is 1.961613655090332 sec\n",
            "Time for epoch 94 is 1.5969417095184326 sec\n",
            "Time for epoch 95 is 1.7820358276367188 sec\n",
            "Time for epoch 96 is 1.7809066772460938 sec\n",
            "Time for epoch 97 is 1.7846009731292725 sec\n",
            "Time for epoch 98 is 1.7833774089813232 sec\n",
            "Time for epoch 99 is 1.8483591079711914 sec\n",
            "Time for epoch 100 is 1.7148852348327637 sec\n",
            "Time for epoch 101 is 1.786402702331543 sec\n",
            "Time for epoch 102 is 1.7897844314575195 sec\n",
            "Time for epoch 103 is 1.786496877670288 sec\n",
            "Time for epoch 104 is 1.7808022499084473 sec\n",
            "Time for epoch 105 is 1.7827818393707275 sec\n",
            "Time for epoch 106 is 1.7870721817016602 sec\n",
            "Time for epoch 107 is 1.7801628112792969 sec\n",
            "Time for epoch 108 is 1.7821626663208008 sec\n",
            "Time for epoch 109 is 1.7841036319732666 sec\n",
            "Time for epoch 110 is 1.9538421630859375 sec\n",
            "Time for epoch 111 is 1.597116470336914 sec\n",
            "Time for epoch 112 is 1.7821805477142334 sec\n",
            "Time for epoch 113 is 1.7777552604675293 sec\n",
            "Time for epoch 114 is 1.7787632942199707 sec\n",
            "Time for epoch 115 is 1.7779204845428467 sec\n",
            "Time for epoch 116 is 1.9666130542755127 sec\n",
            "Time for epoch 117 is 2.1667046546936035 sec\n",
            "Time for epoch 118 is 1.7756223678588867 sec\n",
            "Time for epoch 119 is 1.2109203338623047 sec\n",
            "Time for epoch 120 is 1.7783362865447998 sec\n",
            "Time for epoch 121 is 1.7716121673583984 sec\n",
            "Time for epoch 122 is 1.7783417701721191 sec\n",
            "Time for epoch 123 is 1.7781057357788086 sec\n",
            "Time for epoch 124 is 1.770517110824585 sec\n",
            "Time for epoch 125 is 1.7783958911895752 sec\n",
            "Time for epoch 126 is 1.769763469696045 sec\n",
            "Time for epoch 127 is 1.7765555381774902 sec\n",
            "Time for epoch 128 is 1.769730567932129 sec\n",
            "Time for epoch 129 is 1.7734344005584717 sec\n",
            "Time for epoch 130 is 1.7726545333862305 sec\n",
            "Time for epoch 131 is 1.7722892761230469 sec\n",
            "Time for epoch 132 is 1.7836275100708008 sec\n",
            "Time for epoch 133 is 1.7790002822875977 sec\n",
            "Time for epoch 134 is 1.7714858055114746 sec\n",
            "Time for epoch 135 is 1.7713778018951416 sec\n",
            "Time for epoch 136 is 1.7784101963043213 sec\n",
            "Time for epoch 137 is 1.7781002521514893 sec\n",
            "Time for epoch 138 is 1.7728557586669922 sec\n",
            "Time for epoch 139 is 1.7804930210113525 sec\n",
            "Time for epoch 140 is 1.7746176719665527 sec\n",
            "Time for epoch 141 is 1.7735722064971924 sec\n",
            "Time for epoch 142 is 1.9583165645599365 sec\n",
            "Time for epoch 143 is 1.6051411628723145 sec\n",
            "Time for epoch 144 is 1.7815134525299072 sec\n",
            "Time for epoch 145 is 1.7796592712402344 sec\n",
            "Time for epoch 146 is 1.7821061611175537 sec\n",
            "Time for epoch 147 is 1.7843830585479736 sec\n",
            "Time for epoch 148 is 1.7808189392089844 sec\n",
            "Time for epoch 149 is 1.7863285541534424 sec\n",
            "Time for epoch 150 is 1.78001070022583 sec\n",
            "Time for epoch 151 is 1.7851548194885254 sec\n",
            "Time for epoch 152 is 1.7823576927185059 sec\n",
            "Time for epoch 153 is 1.7826058864593506 sec\n",
            "Time for epoch 154 is 2.3607189655303955 sec\n",
            "Time for epoch 155 is 1.2065098285675049 sec\n",
            "Time for epoch 156 is 1.7837135791778564 sec\n",
            "Time for epoch 157 is 1.7814772129058838 sec\n",
            "Time for epoch 158 is 1.785175085067749 sec\n",
            "Time for epoch 159 is 1.7804479598999023 sec\n",
            "Time for epoch 160 is 1.7818560600280762 sec\n",
            "Time for epoch 161 is 1.7824647426605225 sec\n",
            "Time for epoch 162 is 1.8059897422790527 sec\n",
            "Time for epoch 163 is 2.3006842136383057 sec\n",
            "Time for epoch 164 is 1.2471299171447754 sec\n",
            "Time for epoch 165 is 1.7815310955047607 sec\n",
            "Time for epoch 166 is 1.781034231185913 sec\n",
            "Time for epoch 167 is 1.7823309898376465 sec\n",
            "Time for epoch 168 is 1.78410005569458 sec\n",
            "Time for epoch 169 is 1.7836575508117676 sec\n",
            "Time for epoch 170 is 2.3585121631622314 sec\n",
            "Time for epoch 171 is 1.2113134860992432 sec\n",
            "Time for epoch 172 is 1.783205509185791 sec\n",
            "Time for epoch 173 is 1.7835452556610107 sec\n",
            "Time for epoch 174 is 1.7897424697875977 sec\n",
            "Time for epoch 175 is 1.7901718616485596 sec\n",
            "Time for epoch 176 is 1.786984920501709 sec\n",
            "Time for epoch 177 is 1.8419101238250732 sec\n",
            "Time for epoch 178 is 1.7275099754333496 sec\n",
            "Time for epoch 179 is 1.791414499282837 sec\n",
            "Time for epoch 180 is 1.7814717292785645 sec\n",
            "Time for epoch 181 is 1.7883920669555664 sec\n",
            "Time for epoch 182 is 1.7839446067810059 sec\n",
            "Time for epoch 183 is 1.7863686084747314 sec\n",
            "Time for epoch 184 is 1.7834351062774658 sec\n",
            "Time for epoch 185 is 2.358297824859619 sec\n",
            "Time for epoch 186 is 1.2103524208068848 sec\n",
            "Time for epoch 187 is 1.782005786895752 sec\n",
            "Time for epoch 188 is 1.78271484375 sec\n",
            "Time for epoch 189 is 1.7829906940460205 sec\n",
            "Time for epoch 190 is 1.7932076454162598 sec\n",
            "Time for epoch 191 is 1.7870934009552002 sec\n",
            "Time for epoch 192 is 1.778132677078247 sec\n",
            "Time for epoch 193 is 2.356842517852783 sec\n",
            "Time for epoch 194 is 1.214294195175171 sec\n",
            "Time for epoch 195 is 1.781653642654419 sec\n",
            "Time for epoch 196 is 1.7787342071533203 sec\n",
            "Time for epoch 197 is 1.7795100212097168 sec\n",
            "Time for epoch 198 is 1.7797355651855469 sec\n",
            "Time for epoch 199 is 1.7759745121002197 sec\n",
            "Time for epoch 200 is 1.7808878421783447 sec\n",
            "Time for epoch 201 is 1.7756502628326416 sec\n",
            "Time for epoch 202 is 1.7735176086425781 sec\n",
            "Time for epoch 203 is 1.782402515411377 sec\n",
            "Time for epoch 204 is 1.7791223526000977 sec\n",
            "Time for epoch 205 is 1.969209909439087 sec\n",
            "Time for epoch 206 is 1.9048964977264404 sec\n",
            "Time for epoch 207 is 1.461496114730835 sec\n",
            "Time for epoch 208 is 1.7781739234924316 sec\n",
            "Time for epoch 209 is 1.7779605388641357 sec\n",
            "Time for epoch 210 is 1.775747537612915 sec\n",
            "Time for epoch 211 is 1.8675384521484375 sec\n",
            "Time for epoch 212 is 1.6944890022277832 sec\n",
            "Time for epoch 213 is 1.779308557510376 sec\n",
            "Time for epoch 214 is 1.774730920791626 sec\n",
            "Time for epoch 215 is 1.7737367153167725 sec\n",
            "Time for epoch 216 is 1.7802212238311768 sec\n",
            "Time for epoch 217 is 1.7796223163604736 sec\n",
            "Time for epoch 218 is 1.7726950645446777 sec\n",
            "Time for epoch 219 is 1.7733469009399414 sec\n",
            "Time for epoch 220 is 1.7818963527679443 sec\n",
            "Time for epoch 221 is 1.776212453842163 sec\n",
            "Time for epoch 222 is 1.7804889678955078 sec\n",
            "Time for epoch 223 is 1.783308744430542 sec\n",
            "Time for epoch 224 is 1.7720978260040283 sec\n",
            "Time for epoch 225 is 1.7773571014404297 sec\n",
            "Time for epoch 226 is 1.7775914669036865 sec\n",
            "Time for epoch 227 is 1.7762653827667236 sec\n",
            "Time for epoch 228 is 1.7750298976898193 sec\n",
            "Time for epoch 229 is 1.7776768207550049 sec\n",
            "Time for epoch 230 is 1.7736072540283203 sec\n",
            "Time for epoch 231 is 1.7825284004211426 sec\n",
            "Time for epoch 232 is 1.957425832748413 sec\n",
            "Time for epoch 233 is 1.5994629859924316 sec\n",
            "Time for epoch 234 is 1.780447006225586 sec\n",
            "Time for epoch 235 is 1.7802734375 sec\n",
            "Time for epoch 236 is 1.7802598476409912 sec\n",
            "Time for epoch 237 is 1.7790710926055908 sec\n",
            "Time for epoch 238 is 1.7816674709320068 sec\n",
            "Time for epoch 239 is 1.7850162982940674 sec\n",
            "Time for epoch 240 is 1.7828991413116455 sec\n",
            "Time for epoch 241 is 1.9602632522583008 sec\n",
            "Time for epoch 242 is 1.6051502227783203 sec\n",
            "Time for epoch 243 is 1.9692881107330322 sec\n",
            "Time for epoch 244 is 1.6074333190917969 sec\n",
            "Time for epoch 245 is 1.8526747226715088 sec\n",
            "Time for epoch 246 is 1.730513095855713 sec\n",
            "Time for epoch 247 is 1.9658870697021484 sec\n",
            "Time for epoch 248 is 1.6108059883117676 sec\n",
            "Time for epoch 249 is 1.7923026084899902 sec\n",
            "Time for epoch 250 is 2.3084049224853516 sec\n",
            "Time for epoch 251 is 1.268007755279541 sec\n",
            "Time for epoch 252 is 1.7937650680541992 sec\n",
            "Time for epoch 253 is 1.785050868988037 sec\n",
            "Time for epoch 254 is 1.7839252948760986 sec\n",
            "Time for epoch 255 is 1.7812607288360596 sec\n",
            "Time for epoch 256 is 1.7825772762298584 sec\n",
            "Time for epoch 257 is 1.7820343971252441 sec\n",
            "Time for epoch 258 is 1.7808945178985596 sec\n",
            "Time for epoch 259 is 1.7762763500213623 sec\n",
            "Time for epoch 260 is 1.7777297496795654 sec\n",
            "Time for epoch 261 is 1.9550914764404297 sec\n",
            "Time for epoch 262 is 1.6058368682861328 sec\n",
            "Time for epoch 263 is 1.7776634693145752 sec\n",
            "Time for epoch 264 is 1.7792961597442627 sec\n",
            "Time for epoch 265 is 1.780571460723877 sec\n",
            "Time for epoch 266 is 1.7726359367370605 sec\n",
            "Time for epoch 267 is 1.7857811450958252 sec\n",
            "Time for epoch 268 is 1.7818419933319092 sec\n",
            "Time for epoch 269 is 1.778939962387085 sec\n",
            "Time for epoch 270 is 1.7803008556365967 sec\n",
            "Time for epoch 271 is 1.7790162563323975 sec\n",
            "Time for epoch 272 is 1.7800312042236328 sec\n",
            "Time for epoch 273 is 1.7824177742004395 sec\n",
            "Time for epoch 274 is 1.7799441814422607 sec\n",
            "Time for epoch 275 is 1.7808494567871094 sec\n",
            "Time for epoch 276 is 1.785705804824829 sec\n",
            "Time for epoch 277 is 1.7783997058868408 sec\n",
            "Time for epoch 278 is 1.7780158519744873 sec\n",
            "Time for epoch 279 is 1.7827794551849365 sec\n",
            "Time for epoch 280 is 1.7814512252807617 sec\n",
            "Time for epoch 281 is 1.7795450687408447 sec\n",
            "Time for epoch 282 is 1.968559980392456 sec\n",
            "Time for epoch 283 is 1.646939992904663 sec\n",
            "Time for epoch 284 is 1.719820499420166 sec\n",
            "Time for epoch 285 is 1.7823553085327148 sec\n",
            "Time for epoch 286 is 1.7796032428741455 sec\n",
            "Time for epoch 287 is 1.77976393699646 sec\n",
            "Time for epoch 288 is 1.7740952968597412 sec\n",
            "Time for epoch 289 is 1.7801721096038818 sec\n",
            "Time for epoch 290 is 2.3613362312316895 sec\n",
            "Time for epoch 291 is 1.2074480056762695 sec\n",
            "Time for epoch 292 is 1.7846205234527588 sec\n",
            "Time for epoch 293 is 1.7755932807922363 sec\n",
            "Time for epoch 294 is 1.7802073955535889 sec\n",
            "Time for epoch 295 is 1.7789084911346436 sec\n",
            "Time for epoch 296 is 1.7722728252410889 sec\n",
            "Time for epoch 297 is 1.7753322124481201 sec\n",
            "Time for epoch 298 is 1.773688554763794 sec\n",
            "Time for epoch 299 is 1.7812037467956543 sec\n",
            "Time for epoch 300 is 1.7725903987884521 sec\n",
            "Time for epoch 301 is 1.7777607440948486 sec\n",
            "Time for epoch 302 is 1.7772555351257324 sec\n",
            "Time for epoch 303 is 1.7735459804534912 sec\n",
            "Time for epoch 304 is 1.7826204299926758 sec\n",
            "Time for epoch 305 is 1.775547742843628 sec\n",
            "Time for epoch 306 is 1.7747752666473389 sec\n",
            "Time for epoch 307 is 1.7788448333740234 sec\n",
            "Time for epoch 308 is 1.7801473140716553 sec\n",
            "Time for epoch 309 is 1.7791709899902344 sec\n",
            "Time for epoch 310 is 1.7780678272247314 sec\n",
            "Time for epoch 311 is 1.7799091339111328 sec\n",
            "Time for epoch 312 is 1.7793567180633545 sec\n",
            "Time for epoch 313 is 1.7771809101104736 sec\n",
            "Time for epoch 314 is 1.7832229137420654 sec\n",
            "Time for epoch 315 is 1.7775249481201172 sec\n",
            "Time for epoch 316 is 1.776268482208252 sec\n",
            "Time for epoch 317 is 1.7763159275054932 sec\n",
            "Time for epoch 318 is 1.9572672843933105 sec\n",
            "Time for epoch 319 is 1.6009602546691895 sec\n",
            "Time for epoch 320 is 1.7711992263793945 sec\n",
            "Time for epoch 321 is 1.7750232219696045 sec\n",
            "Time for epoch 322 is 1.7724578380584717 sec\n",
            "Time for epoch 323 is 1.9502747058868408 sec\n",
            "Time for epoch 324 is 1.600135087966919 sec\n",
            "Time for epoch 325 is 1.7765209674835205 sec\n",
            "Time for epoch 326 is 1.775911808013916 sec\n",
            "Time for epoch 327 is 1.7662911415100098 sec\n",
            "Time for epoch 328 is 1.9558227062225342 sec\n",
            "Time for epoch 329 is 1.6035864353179932 sec\n",
            "Time for epoch 330 is 1.770096778869629 sec\n",
            "Time for epoch 331 is 1.7742059230804443 sec\n",
            "Time for epoch 332 is 1.942540168762207 sec\n",
            "Time for epoch 333 is 1.606417179107666 sec\n",
            "Time for epoch 334 is 1.7786064147949219 sec\n",
            "Time for epoch 335 is 1.7706236839294434 sec\n",
            "Time for epoch 336 is 1.7828843593597412 sec\n",
            "Time for epoch 337 is 1.8678293228149414 sec\n",
            "Time for epoch 338 is 1.6911852359771729 sec\n",
            "Time for epoch 339 is 1.7809686660766602 sec\n",
            "Time for epoch 340 is 1.7718262672424316 sec\n",
            "Time for epoch 341 is 1.782592535018921 sec\n",
            "Time for epoch 342 is 1.7809245586395264 sec\n",
            "Time for epoch 343 is 1.7799124717712402 sec\n",
            "Time for epoch 344 is 1.783557653427124 sec\n",
            "Time for epoch 345 is 1.7805027961730957 sec\n",
            "Time for epoch 346 is 1.7819581031799316 sec\n",
            "Time for epoch 347 is 1.7826223373413086 sec\n",
            "Time for epoch 348 is 1.7845323085784912 sec\n",
            "Time for epoch 349 is 1.7804691791534424 sec\n",
            "Time for epoch 350 is 1.782688856124878 sec\n",
            "Time for epoch 351 is 1.780153512954712 sec\n",
            "Time for epoch 352 is 1.780641794204712 sec\n",
            "Time for epoch 353 is 1.781930923461914 sec\n",
            "Time for epoch 354 is 1.773611307144165 sec\n",
            "Time for epoch 355 is 2.303536891937256 sec\n",
            "Time for epoch 356 is 1.2593090534210205 sec\n",
            "Time for epoch 357 is 1.7817680835723877 sec\n",
            "Time for epoch 358 is 1.776343822479248 sec\n",
            "Time for epoch 359 is 1.7830510139465332 sec\n",
            "Time for epoch 360 is 1.7794361114501953 sec\n",
            "Time for epoch 361 is 1.7832176685333252 sec\n",
            "Time for epoch 362 is 1.7803711891174316 sec\n",
            "Time for epoch 363 is 1.7826688289642334 sec\n",
            "Time for epoch 364 is 1.7798385620117188 sec\n",
            "Time for epoch 365 is 1.7773902416229248 sec\n",
            "Time for epoch 366 is 1.7805225849151611 sec\n",
            "Time for epoch 367 is 1.782958984375 sec\n",
            "Time for epoch 368 is 1.7801847457885742 sec\n",
            "Time for epoch 369 is 1.7853477001190186 sec\n",
            "Time for epoch 370 is 1.7813174724578857 sec\n",
            "Time for epoch 371 is 1.782590627670288 sec\n",
            "Time for epoch 372 is 1.7861623764038086 sec\n",
            "Time for epoch 373 is 1.780078649520874 sec\n",
            "Time for epoch 374 is 1.7878327369689941 sec\n",
            "Time for epoch 375 is 1.7862915992736816 sec\n",
            "Time for epoch 376 is 1.778151273727417 sec\n",
            "Time for epoch 377 is 2.3547842502593994 sec\n",
            "Time for epoch 378 is 1.2090015411376953 sec\n",
            "Time for epoch 379 is 1.782729148864746 sec\n",
            "Time for epoch 380 is 1.9741380214691162 sec\n",
            "Time for epoch 381 is 2.1623334884643555 sec\n",
            "Time for epoch 382 is 1.2107648849487305 sec\n",
            "Time for epoch 383 is 1.9545443058013916 sec\n",
            "Time for epoch 384 is 1.6077635288238525 sec\n",
            "Time for epoch 385 is 2.183424472808838 sec\n",
            "Time for epoch 386 is 1.3644616603851318 sec\n",
            "Time for epoch 387 is 1.7814724445343018 sec\n",
            "Time for epoch 388 is 1.7759547233581543 sec\n",
            "Time for epoch 389 is 1.7779052257537842 sec\n",
            "Time for epoch 390 is 1.777428388595581 sec\n",
            "Time for epoch 391 is 1.7757487297058105 sec\n",
            "Time for epoch 392 is 1.77763032913208 sec\n",
            "Time for epoch 393 is 1.7750816345214844 sec\n",
            "Time for epoch 394 is 1.7765257358551025 sec\n",
            "Time for epoch 395 is 1.771925449371338 sec\n",
            "Time for epoch 396 is 1.772813081741333 sec\n",
            "Time for epoch 397 is 1.774749755859375 sec\n",
            "Time for epoch 398 is 2.354322671890259 sec\n",
            "Time for epoch 399 is 1.2029306888580322 sec\n",
            "Time for epoch 400 is 1.7732532024383545 sec\n",
            "Time for epoch 401 is 1.7768676280975342 sec\n",
            "Time for epoch 402 is 1.7780516147613525 sec\n",
            "Time for epoch 403 is 1.780177116394043 sec\n",
            "Time for epoch 404 is 1.7717082500457764 sec\n",
            "Time for epoch 405 is 1.7813541889190674 sec\n",
            "Time for epoch 406 is 1.9732666015625 sec\n",
            "Time for epoch 407 is 1.5931599140167236 sec\n",
            "Time for epoch 408 is 1.939349889755249 sec\n",
            "Time for epoch 409 is 1.625995397567749 sec\n",
            "Time for epoch 410 is 1.7817931175231934 sec\n",
            "Time for epoch 411 is 1.7851309776306152 sec\n",
            "Time for epoch 412 is 1.7772135734558105 sec\n",
            "Time for epoch 413 is 1.7815024852752686 sec\n",
            "Time for epoch 414 is 1.7825438976287842 sec\n",
            "Time for epoch 415 is 1.7825307846069336 sec\n",
            "Time for epoch 416 is 1.7783098220825195 sec\n",
            "Time for epoch 417 is 1.786217212677002 sec\n",
            "Time for epoch 418 is 1.7830815315246582 sec\n",
            "Time for epoch 419 is 1.7805070877075195 sec\n",
            "Time for epoch 420 is 1.7828011512756348 sec\n",
            "Time for epoch 421 is 1.7817623615264893 sec\n",
            "Time for epoch 422 is 1.7802934646606445 sec\n",
            "Time for epoch 423 is 1.7741572856903076 sec\n",
            "Time for epoch 424 is 1.7794692516326904 sec\n",
            "Time for epoch 425 is 1.7794208526611328 sec\n",
            "Time for epoch 426 is 1.780296802520752 sec\n",
            "Time for epoch 427 is 1.7801005840301514 sec\n",
            "Time for epoch 428 is 1.7791142463684082 sec\n",
            "Time for epoch 429 is 1.775879144668579 sec\n",
            "Time for epoch 430 is 1.7807493209838867 sec\n",
            "Time for epoch 431 is 1.7794444561004639 sec\n",
            "Time for epoch 432 is 1.772977590560913 sec\n",
            "Time for epoch 433 is 1.9585449695587158 sec\n",
            "Time for epoch 434 is 2.188689947128296 sec\n",
            "Time for epoch 435 is 1.2024438381195068 sec\n",
            "Time for epoch 436 is 1.7847633361816406 sec\n",
            "Time for epoch 437 is 1.799865484237671 sec\n",
            "Time for epoch 438 is 1.766343355178833 sec\n",
            "Time for epoch 439 is 1.7802002429962158 sec\n",
            "Time for epoch 440 is 1.7787539958953857 sec\n",
            "Time for epoch 441 is 1.782388687133789 sec\n",
            "Time for epoch 442 is 1.7841274738311768 sec\n",
            "Time for epoch 443 is 1.7810590267181396 sec\n",
            "Time for epoch 444 is 1.7816896438598633 sec\n",
            "Time for epoch 445 is 1.7820649147033691 sec\n",
            "Time for epoch 446 is 1.7833378314971924 sec\n",
            "Time for epoch 447 is 1.9619851112365723 sec\n",
            "Time for epoch 448 is 1.6028084754943848 sec\n",
            "Time for epoch 449 is 1.7823262214660645 sec\n",
            "Time for epoch 450 is 1.7753410339355469 sec\n",
            "Time for epoch 451 is 1.9502677917480469 sec\n",
            "Time for epoch 452 is 1.6163430213928223 sec\n",
            "Time for epoch 453 is 1.7830698490142822 sec\n",
            "Time for epoch 454 is 1.8073740005493164 sec\n",
            "Time for epoch 455 is 1.7560997009277344 sec\n",
            "Time for epoch 456 is 1.7788779735565186 sec\n",
            "Time for epoch 457 is 1.7815227508544922 sec\n",
            "Time for epoch 458 is 1.953779697418213 sec\n",
            "Time for epoch 459 is 1.6100826263427734 sec\n",
            "Time for epoch 460 is 1.7866406440734863 sec\n",
            "Time for epoch 461 is 1.777651309967041 sec\n",
            "Time for epoch 462 is 1.7814640998840332 sec\n",
            "Time for epoch 463 is 1.9582386016845703 sec\n",
            "Time for epoch 464 is 1.606898307800293 sec\n",
            "Time for epoch 465 is 1.779587984085083 sec\n",
            "Time for epoch 466 is 1.779527187347412 sec\n",
            "Time for epoch 467 is 1.7746641635894775 sec\n",
            "Time for epoch 468 is 1.7831060886383057 sec\n",
            "Time for epoch 469 is 1.954589605331421 sec\n",
            "Time for epoch 470 is 1.8033897876739502 sec\n",
            "Time for epoch 471 is 1.5972065925598145 sec\n",
            "Time for epoch 472 is 1.7827496528625488 sec\n",
            "Time for epoch 473 is 1.7810122966766357 sec\n",
            "Time for epoch 474 is 1.7856340408325195 sec\n",
            "Time for epoch 475 is 1.7833456993103027 sec\n",
            "Time for epoch 476 is 1.7895605564117432 sec\n",
            "Time for epoch 477 is 1.7879257202148438 sec\n",
            "Time for epoch 478 is 1.7828679084777832 sec\n",
            "Time for epoch 479 is 1.7808401584625244 sec\n",
            "Time for epoch 480 is 1.783066987991333 sec\n",
            "Time for epoch 481 is 1.7830069065093994 sec\n",
            "Time for epoch 482 is 1.7816088199615479 sec\n",
            "Time for epoch 483 is 1.7787439823150635 sec\n",
            "Time for epoch 484 is 1.955864667892456 sec\n",
            "Time for epoch 485 is 1.6040136814117432 sec\n",
            "Time for epoch 486 is 1.7785491943359375 sec\n",
            "Time for epoch 487 is 1.7823164463043213 sec\n",
            "Time for epoch 488 is 1.7834692001342773 sec\n",
            "Time for epoch 489 is 1.7806015014648438 sec\n",
            "Time for epoch 490 is 1.7825329303741455 sec\n",
            "Time for epoch 491 is 1.781473159790039 sec\n",
            "Time for epoch 492 is 1.7762155532836914 sec\n",
            "Time for epoch 493 is 1.7816565036773682 sec\n",
            "Time for epoch 494 is 1.7766964435577393 sec\n",
            "Time for epoch 495 is 1.7814931869506836 sec\n",
            "Time for epoch 496 is 1.7838780879974365 sec\n",
            "Time for epoch 497 is 1.7826921939849854 sec\n",
            "Time for epoch 498 is 1.7799749374389648 sec\n",
            "Time for epoch 499 is 1.7824406623840332 sec\n",
            "Time for epoch 500 is 1.7824265956878662 sec\n"
          ],
          "name": "stdout"
        }
      ]
    },
    {
      "cell_type": "markdown",
      "metadata": {
        "id": "uT2iXgY-CXp7"
      },
      "source": [
        "# Test Model"
      ]
    },
    {
      "cell_type": "code",
      "metadata": {
        "colab": {
          "base_uri": "https://localhost:8080/",
          "height": 687
        },
        "id": "FOhm27aMCWm7",
        "outputId": "de2f5f6a-4265-423e-86da-71b0e9b2b4fb"
      },
      "source": [
        "predicted_images = generator( x_test )\n",
        "plt.gray()\n",
        "n = 3\n",
        "fig, ax = plt.subplots( 2, 3, True, True, figsize = ( 16, 12 ) )\n",
        "for i in range( n ):\n",
        "    ax[0][i].imshow( x_test[i].reshape( 256, 256 ) )\n",
        "\n",
        "    ax[1][i].imshow( tf.reshape( predicted_images[i], ( 256, 256 ) ) )\n",
        "plt.savefig( 'Result.png' )"
      ],
      "execution_count": 27,
      "outputs": [
        {
          "output_type": "display_data",
          "data": {
            "text/plain": [
              "<Figure size 432x288 with 0 Axes>"
            ]
          },
          "metadata": {
            "tags": []
          }
        },
        {
          "output_type": "display_data",
          "data": {
            "image/png": "[encoded data removed]",
            "text/plain": [
              "<Figure size 1152x864 with 6 Axes>"
            ]
          },
          "metadata": {
            "tags": [],
            "needs_background": "light"
          }
        }
      ]
    }
  ]
}