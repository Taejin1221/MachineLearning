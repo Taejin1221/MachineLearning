{
  "nbformat": 4,
  "nbformat_minor": 0,
  "metadata": {
    "kernelspec": {
      "display_name": "Python 3",
      "language": "python",
      "name": "python3"
    },
    "language_info": {
      "codemirror_mode": {
        "name": "ipython",
        "version": 3
      },
      "file_extension": ".py",
      "mimetype": "text/x-python",
      "name": "python",
      "nbconvert_exporter": "python",
      "pygments_lexer": "ipython3",
      "version": "3.7.4"
    },
    "colab": {
      "name": "ResNet_22layers",
      "provenance": [],
      "collapsed_sections": [],
      "toc_visible": true
    },
    "accelerator": "GPU"
  },
  "cells": [
    {
      "cell_type": "code",
      "metadata": {
        "id": "8iJg6AkLyQ-o",
        "colab_type": "code",
        "colab": {}
      },
      "source": [
        "import tensorflow as tf\n",
        "\n",
        "from tensorflow import keras\n",
        "from tensorflow.keras import layers\n",
        "from tensorflow.keras import datasets"
      ],
      "execution_count": 0,
      "outputs": []
    },
    {
      "cell_type": "code",
      "metadata": {
        "id": "Uh2roVZhyQ-r",
        "colab_type": "code",
        "colab": {}
      },
      "source": [
        "n = 3"
      ],
      "execution_count": 0,
      "outputs": []
    },
    {
      "cell_type": "code",
      "metadata": {
        "id": "bKRNI2q2yQ-u",
        "colab_type": "code",
        "colab": {}
      },
      "source": [
        "inputs = keras.Input( shape = ( 32, 32, 3 ), name = 'input' )\n",
        "\n",
        "identity = layers.Conv2D( filters = 16, kernel_size = [ 7, 7 ],\n",
        "                       padding = 'Same', activation = 'relu' )(inputs)\n",
        "\n",
        "# block 1\n",
        "for _ in range( n ):\n",
        "    output = layers.Conv2D( filters = 16, kernel_size = [ 3, 3 ],\n",
        "                           padding = 'Same' )(identity)\n",
        "    output = layers.BatchNormalization()(output)\n",
        "    output = layers.Activation('relu')(output)\n",
        "    \n",
        "    output = layers.Conv2D( filters = 16, kernel_size = [ 3, 3 ],\n",
        "                           padding = 'Same' )(output)\n",
        "    output = layers.BatchNormalization()(output)\n",
        "    \n",
        "    output = layers.Add()( [ output, identity ] )\n",
        "    identity = layers.Activation('relu')(output)\n",
        "\n",
        "identity = layers.MaxPooling2D( pool_size = [ 3, 3 ], padding = 'same',\n",
        "                               strides = 2 )(identity)"
      ],
      "execution_count": 0,
      "outputs": []
    },
    {
      "cell_type": "code",
      "metadata": {
        "id": "l_84Z42LyQ-w",
        "colab_type": "code",
        "colab": {}
      },
      "source": [
        "# block 2\n",
        "identity = layers.ZeroPadding2D( [ 0, 8 ], 'channels_first' )(identity)\n",
        "for _ in range( n ):\n",
        "    output = layers.Conv2D( filters = 32, kernel_size = [ 3, 3 ],\n",
        "                           padding = 'Same' )(identity)\n",
        "    output = layers.BatchNormalization()(output)\n",
        "    output = layers.Activation('relu')(output)\n",
        "    \n",
        "    output = layers.Conv2D( filters = 32, kernel_size = [ 3, 3 ],\n",
        "                           padding = 'Same' )(output)\n",
        "    output = layers.BatchNormalization()(output)\n",
        "    \n",
        "    output = layers.Add()( [ output, identity ] )\n",
        "    identity = layers.Activation('relu')(output)\n",
        "\n",
        "identity = layers.MaxPooling2D( pool_size = [ 3, 3 ], padding = 'same',\n",
        "                               strides = 2 )(identity)"
      ],
      "execution_count": 0,
      "outputs": []
    },
    {
      "cell_type": "code",
      "metadata": {
        "id": "18FDc_f9yQ-y",
        "colab_type": "code",
        "colab": {}
      },
      "source": [
        "# block 3\n",
        "identity = layers.ZeroPadding2D( [ 0, 16 ], 'channels_first' )(identity)\n",
        "for _ in range( n ):\n",
        "    output = layers.Conv2D( filters = 64, kernel_size = [ 3, 3 ],\n",
        "                           padding = 'Same' )(identity)\n",
        "    output = layers.BatchNormalization()(output)\n",
        "    output = layers.Activation('relu')(output)\n",
        "    \n",
        "    output = layers.Conv2D( filters = 64, kernel_size = [ 3, 3 ],\n",
        "                           padding = 'Same' )(output)\n",
        "    output = layers.BatchNormalization()(output)\n",
        "    \n",
        "    output = layers.Add()( [ output, identity ] )\n",
        "    identity = layers.Activation('relu')(output)\n",
        "\n",
        "identity = layers.MaxPooling2D( pool_size = [ 3, 3 ], padding = 'same',\n",
        "                               strides = 2 )(identity)"
      ],
      "execution_count": 0,
      "outputs": []
    },
    {
      "cell_type": "code",
      "metadata": {
        "id": "QgZp3nGByQ-1",
        "colab_type": "code",
        "colab": {}
      },
      "source": [
        "output = layers.GlobalAveragePooling2D()(identity)\n",
        "output = layers.Dense( 128, activation = 'relu' )(output)\n",
        "output = layers.Dense( 128, activation = 'relu' )(output)\n",
        "output = layers.Dense( 10, activation = 'softmax' )(output)"
      ],
      "execution_count": 0,
      "outputs": []
    },
    {
      "cell_type": "code",
      "metadata": {
        "scrolled": true,
        "id": "xeulYwgYyQ-3",
        "colab_type": "code",
        "outputId": "00da6db5-d7ce-4eb2-a4a0-c0058f7875f3",
        "colab": {
          "base_uri": "https://localhost:8080/",
          "height": 1000
        }
      },
      "source": [
        "model = keras.Model( inputs = inputs, outputs = output, name = 'resnet' )\n",
        "model.summary()"
      ],
      "execution_count": 0,
      "outputs": [
        {
          "output_type": "stream",
          "text": [
            "Model: \"resnet\"\n",
            "__________________________________________________________________________________________________\n",
            "Layer (type)                    Output Shape         Param #     Connected to                     \n",
            "==================================================================================================\n",
            "input (InputLayer)              [(None, 32, 32, 3)]  0                                            \n",
            "__________________________________________________________________________________________________\n",
            "conv2d (Conv2D)                 (None, 32, 32, 16)   2368        input[0][0]                      \n",
            "__________________________________________________________________________________________________\n",
            "conv2d_1 (Conv2D)               (None, 32, 32, 16)   2320        conv2d[0][0]                     \n",
            "__________________________________________________________________________________________________\n",
            "batch_normalization (BatchNorma (None, 32, 32, 16)   64          conv2d_1[0][0]                   \n",
            "__________________________________________________________________________________________________\n",
            "activation (Activation)         (None, 32, 32, 16)   0           batch_normalization[0][0]        \n",
            "__________________________________________________________________________________________________\n",
            "conv2d_2 (Conv2D)               (None, 32, 32, 16)   2320        activation[0][0]                 \n",
            "__________________________________________________________________________________________________\n",
            "batch_normalization_1 (BatchNor (None, 32, 32, 16)   64          conv2d_2[0][0]                   \n",
            "__________________________________________________________________________________________________\n",
            "add (Add)                       (None, 32, 32, 16)   0           batch_normalization_1[0][0]      \n",
            "                                                                 conv2d[0][0]                     \n",
            "__________________________________________________________________________________________________\n",
            "activation_1 (Activation)       (None, 32, 32, 16)   0           add[0][0]                        \n",
            "__________________________________________________________________________________________________\n",
            "conv2d_3 (Conv2D)               (None, 32, 32, 16)   2320        activation_1[0][0]               \n",
            "__________________________________________________________________________________________________\n",
            "batch_normalization_2 (BatchNor (None, 32, 32, 16)   64          conv2d_3[0][0]                   \n",
            "__________________________________________________________________________________________________\n",
            "activation_2 (Activation)       (None, 32, 32, 16)   0           batch_normalization_2[0][0]      \n",
            "__________________________________________________________________________________________________\n",
            "conv2d_4 (Conv2D)               (None, 32, 32, 16)   2320        activation_2[0][0]               \n",
            "__________________________________________________________________________________________________\n",
            "batch_normalization_3 (BatchNor (None, 32, 32, 16)   64          conv2d_4[0][0]                   \n",
            "__________________________________________________________________________________________________\n",
            "add_1 (Add)                     (None, 32, 32, 16)   0           batch_normalization_3[0][0]      \n",
            "                                                                 activation_1[0][0]               \n",
            "__________________________________________________________________________________________________\n",
            "activation_3 (Activation)       (None, 32, 32, 16)   0           add_1[0][0]                      \n",
            "__________________________________________________________________________________________________\n",
            "conv2d_5 (Conv2D)               (None, 32, 32, 16)   2320        activation_3[0][0]               \n",
            "__________________________________________________________________________________________________\n",
            "batch_normalization_4 (BatchNor (None, 32, 32, 16)   64          conv2d_5[0][0]                   \n",
            "__________________________________________________________________________________________________\n",
            "activation_4 (Activation)       (None, 32, 32, 16)   0           batch_normalization_4[0][0]      \n",
            "__________________________________________________________________________________________________\n",
            "conv2d_6 (Conv2D)               (None, 32, 32, 16)   2320        activation_4[0][0]               \n",
            "__________________________________________________________________________________________________\n",
            "batch_normalization_5 (BatchNor (None, 32, 32, 16)   64          conv2d_6[0][0]                   \n",
            "__________________________________________________________________________________________________\n",
            "add_2 (Add)                     (None, 32, 32, 16)   0           batch_normalization_5[0][0]      \n",
            "                                                                 activation_3[0][0]               \n",
            "__________________________________________________________________________________________________\n",
            "activation_5 (Activation)       (None, 32, 32, 16)   0           add_2[0][0]                      \n",
            "__________________________________________________________________________________________________\n",
            "max_pooling2d (MaxPooling2D)    (None, 16, 16, 16)   0           activation_5[0][0]               \n",
            "__________________________________________________________________________________________________\n",
            "zero_padding2d (ZeroPadding2D)  (None, 16, 16, 32)   0           max_pooling2d[0][0]              \n",
            "__________________________________________________________________________________________________\n",
            "conv2d_7 (Conv2D)               (None, 16, 16, 32)   9248        zero_padding2d[0][0]             \n",
            "__________________________________________________________________________________________________\n",
            "batch_normalization_6 (BatchNor (None, 16, 16, 32)   128         conv2d_7[0][0]                   \n",
            "__________________________________________________________________________________________________\n",
            "activation_6 (Activation)       (None, 16, 16, 32)   0           batch_normalization_6[0][0]      \n",
            "__________________________________________________________________________________________________\n",
            "conv2d_8 (Conv2D)               (None, 16, 16, 32)   9248        activation_6[0][0]               \n",
            "__________________________________________________________________________________________________\n",
            "batch_normalization_7 (BatchNor (None, 16, 16, 32)   128         conv2d_8[0][0]                   \n",
            "__________________________________________________________________________________________________\n",
            "add_3 (Add)                     (None, 16, 16, 32)   0           batch_normalization_7[0][0]      \n",
            "                                                                 zero_padding2d[0][0]             \n",
            "__________________________________________________________________________________________________\n",
            "activation_7 (Activation)       (None, 16, 16, 32)   0           add_3[0][0]                      \n",
            "__________________________________________________________________________________________________\n",
            "conv2d_9 (Conv2D)               (None, 16, 16, 32)   9248        activation_7[0][0]               \n",
            "__________________________________________________________________________________________________\n",
            "batch_normalization_8 (BatchNor (None, 16, 16, 32)   128         conv2d_9[0][0]                   \n",
            "__________________________________________________________________________________________________\n",
            "activation_8 (Activation)       (None, 16, 16, 32)   0           batch_normalization_8[0][0]      \n",
            "__________________________________________________________________________________________________\n",
            "conv2d_10 (Conv2D)              (None, 16, 16, 32)   9248        activation_8[0][0]               \n",
            "__________________________________________________________________________________________________\n",
            "batch_normalization_9 (BatchNor (None, 16, 16, 32)   128         conv2d_10[0][0]                  \n",
            "__________________________________________________________________________________________________\n",
            "add_4 (Add)                     (None, 16, 16, 32)   0           batch_normalization_9[0][0]      \n",
            "                                                                 activation_7[0][0]               \n",
            "__________________________________________________________________________________________________\n",
            "activation_9 (Activation)       (None, 16, 16, 32)   0           add_4[0][0]                      \n",
            "__________________________________________________________________________________________________\n",
            "conv2d_11 (Conv2D)              (None, 16, 16, 32)   9248        activation_9[0][0]               \n",
            "__________________________________________________________________________________________________\n",
            "batch_normalization_10 (BatchNo (None, 16, 16, 32)   128         conv2d_11[0][0]                  \n",
            "__________________________________________________________________________________________________\n",
            "activation_10 (Activation)      (None, 16, 16, 32)   0           batch_normalization_10[0][0]     \n",
            "__________________________________________________________________________________________________\n",
            "conv2d_12 (Conv2D)              (None, 16, 16, 32)   9248        activation_10[0][0]              \n",
            "__________________________________________________________________________________________________\n",
            "batch_normalization_11 (BatchNo (None, 16, 16, 32)   128         conv2d_12[0][0]                  \n",
            "__________________________________________________________________________________________________\n",
            "add_5 (Add)                     (None, 16, 16, 32)   0           batch_normalization_11[0][0]     \n",
            "                                                                 activation_9[0][0]               \n",
            "__________________________________________________________________________________________________\n",
            "activation_11 (Activation)      (None, 16, 16, 32)   0           add_5[0][0]                      \n",
            "__________________________________________________________________________________________________\n",
            "max_pooling2d_1 (MaxPooling2D)  (None, 8, 8, 32)     0           activation_11[0][0]              \n",
            "__________________________________________________________________________________________________\n",
            "zero_padding2d_1 (ZeroPadding2D (None, 8, 8, 64)     0           max_pooling2d_1[0][0]            \n",
            "__________________________________________________________________________________________________\n",
            "conv2d_13 (Conv2D)              (None, 8, 8, 64)     36928       zero_padding2d_1[0][0]           \n",
            "__________________________________________________________________________________________________\n",
            "batch_normalization_12 (BatchNo (None, 8, 8, 64)     256         conv2d_13[0][0]                  \n",
            "__________________________________________________________________________________________________\n",
            "activation_12 (Activation)      (None, 8, 8, 64)     0           batch_normalization_12[0][0]     \n",
            "__________________________________________________________________________________________________\n",
            "conv2d_14 (Conv2D)              (None, 8, 8, 64)     36928       activation_12[0][0]              \n",
            "__________________________________________________________________________________________________\n",
            "batch_normalization_13 (BatchNo (None, 8, 8, 64)     256         conv2d_14[0][0]                  \n",
            "__________________________________________________________________________________________________\n",
            "add_6 (Add)                     (None, 8, 8, 64)     0           batch_normalization_13[0][0]     \n",
            "                                                                 zero_padding2d_1[0][0]           \n",
            "__________________________________________________________________________________________________\n",
            "activation_13 (Activation)      (None, 8, 8, 64)     0           add_6[0][0]                      \n",
            "__________________________________________________________________________________________________\n",
            "conv2d_15 (Conv2D)              (None, 8, 8, 64)     36928       activation_13[0][0]              \n",
            "__________________________________________________________________________________________________\n",
            "batch_normalization_14 (BatchNo (None, 8, 8, 64)     256         conv2d_15[0][0]                  \n",
            "__________________________________________________________________________________________________\n",
            "activation_14 (Activation)      (None, 8, 8, 64)     0           batch_normalization_14[0][0]     \n",
            "__________________________________________________________________________________________________\n",
            "conv2d_16 (Conv2D)              (None, 8, 8, 64)     36928       activation_14[0][0]              \n",
            "__________________________________________________________________________________________________\n",
            "batch_normalization_15 (BatchNo (None, 8, 8, 64)     256         conv2d_16[0][0]                  \n",
            "__________________________________________________________________________________________________\n",
            "add_7 (Add)                     (None, 8, 8, 64)     0           batch_normalization_15[0][0]     \n",
            "                                                                 activation_13[0][0]              \n",
            "__________________________________________________________________________________________________\n",
            "activation_15 (Activation)      (None, 8, 8, 64)     0           add_7[0][0]                      \n",
            "__________________________________________________________________________________________________\n",
            "conv2d_17 (Conv2D)              (None, 8, 8, 64)     36928       activation_15[0][0]              \n",
            "__________________________________________________________________________________________________\n",
            "batch_normalization_16 (BatchNo (None, 8, 8, 64)     256         conv2d_17[0][0]                  \n",
            "__________________________________________________________________________________________________\n",
            "activation_16 (Activation)      (None, 8, 8, 64)     0           batch_normalization_16[0][0]     \n",
            "__________________________________________________________________________________________________\n",
            "conv2d_18 (Conv2D)              (None, 8, 8, 64)     36928       activation_16[0][0]              \n",
            "__________________________________________________________________________________________________\n",
            "batch_normalization_17 (BatchNo (None, 8, 8, 64)     256         conv2d_18[0][0]                  \n",
            "__________________________________________________________________________________________________\n",
            "add_8 (Add)                     (None, 8, 8, 64)     0           batch_normalization_17[0][0]     \n",
            "                                                                 activation_15[0][0]              \n",
            "__________________________________________________________________________________________________\n",
            "activation_17 (Activation)      (None, 8, 8, 64)     0           add_8[0][0]                      \n",
            "__________________________________________________________________________________________________\n",
            "max_pooling2d_2 (MaxPooling2D)  (None, 4, 4, 64)     0           activation_17[0][0]              \n",
            "__________________________________________________________________________________________________\n",
            "global_average_pooling2d (Globa (None, 64)           0           max_pooling2d_2[0][0]            \n",
            "__________________________________________________________________________________________________\n",
            "dense (Dense)                   (None, 128)          8320        global_average_pooling2d[0][0]   \n",
            "__________________________________________________________________________________________________\n",
            "dense_1 (Dense)                 (None, 128)          16512       dense[0][0]                      \n",
            "__________________________________________________________________________________________________\n",
            "dense_2 (Dense)                 (None, 10)           1290        dense_1[0][0]                    \n",
            "==================================================================================================\n",
            "Total params: 322,154\n",
            "Trainable params: 320,810\n",
            "Non-trainable params: 1,344\n",
            "__________________________________________________________________________________________________\n"
          ],
          "name": "stdout"
        }
      ]
    },
    {
      "cell_type": "code",
      "metadata": {
        "id": "qxH_h9i2yQ-7",
        "colab_type": "code",
        "colab": {}
      },
      "source": [
        "lr = 1e-3\n",
        "BATCH_SIZE = 512\n",
        "EPOCHS = 25"
      ],
      "execution_count": 0,
      "outputs": []
    },
    {
      "cell_type": "code",
      "metadata": {
        "id": "z52y4GRPyQ-9",
        "colab_type": "code",
        "outputId": "67ec3f7f-763b-4155-c6b0-f001ed2e28af",
        "colab": {
          "base_uri": "https://localhost:8080/",
          "height": 51
        }
      },
      "source": [
        "(x_train, y_train), (x_test, y_test) = keras.datasets.cifar10.load_data()\n",
        "\n",
        "x_train = x_train.astype('float32') / 255.0\n",
        "x_test = x_test.astype('float32') / 255.0\n",
        "y_train = keras.utils.to_categorical( y_train, 10 )\n",
        "y_test = keras.utils.to_categorical( y_test, 10 )\n",
        "\n",
        "model.compile( optimizer = keras.optimizers.RMSprop( lr, 0.9 ),\n",
        "             loss = keras.losses.CategoricalCrossentropy( from_logits = True ),\n",
        "              metrics = ['acc'])"
      ],
      "execution_count": 0,
      "outputs": [
        {
          "output_type": "stream",
          "text": [
            "Downloading data from https://www.cs.toronto.edu/~kriz/cifar-10-python.tar.gz\n",
            "170500096/170498071 [==============================] - 6s 0us/step\n"
          ],
          "name": "stdout"
        }
      ]
    },
    {
      "cell_type": "code",
      "metadata": {
        "scrolled": true,
        "id": "z9BjknwUyQ-_",
        "colab_type": "code",
        "outputId": "8ef40155-3428-4a78-f24a-bcf9efe7044f",
        "colab": {
          "base_uri": "https://localhost:8080/",
          "height": 867
        }
      },
      "source": [
        "history = model.fit( x_train, y_train, batch_size = BATCH_SIZE,\n",
        "                    epochs = EPOCHS, validation_split = 0.2 )"
      ],
      "execution_count": 0,
      "outputs": [
        {
          "output_type": "stream",
          "text": [
            "Epoch 1/25\n",
            "79/79 [==============================] - 6s 78ms/step - loss: 2.1381 - acc: 0.3126 - val_loss: 2.2903 - val_acc: 0.1477\n",
            "Epoch 2/25\n",
            "79/79 [==============================] - 6s 71ms/step - loss: 2.0198 - acc: 0.4368 - val_loss: 2.3017 - val_acc: 0.1279\n",
            "Epoch 3/25\n",
            "79/79 [==============================] - 6s 71ms/step - loss: 1.9701 - acc: 0.4871 - val_loss: 2.2755 - val_acc: 0.1768\n",
            "Epoch 4/25\n",
            "79/79 [==============================] - 6s 71ms/step - loss: 1.9316 - acc: 0.5272 - val_loss: 2.1737 - val_acc: 0.2796\n",
            "Epoch 5/25\n",
            "79/79 [==============================] - 6s 71ms/step - loss: 1.9021 - acc: 0.5558 - val_loss: 2.2375 - val_acc: 0.2110\n",
            "Epoch 6/25\n",
            "79/79 [==============================] - 6s 71ms/step - loss: 1.8771 - acc: 0.5810 - val_loss: 2.1296 - val_acc: 0.3260\n",
            "Epoch 7/25\n",
            "79/79 [==============================] - 6s 72ms/step - loss: 1.8572 - acc: 0.6003 - val_loss: 2.1424 - val_acc: 0.3113\n",
            "Epoch 8/25\n",
            "79/79 [==============================] - 6s 71ms/step - loss: 1.8413 - acc: 0.6176 - val_loss: 2.0822 - val_acc: 0.3736\n",
            "Epoch 9/25\n",
            "79/79 [==============================] - 6s 71ms/step - loss: 1.8236 - acc: 0.6354 - val_loss: 2.0831 - val_acc: 0.3731\n",
            "Epoch 10/25\n",
            "79/79 [==============================] - 6s 71ms/step - loss: 1.8119 - acc: 0.6466 - val_loss: 2.1091 - val_acc: 0.3465\n",
            "Epoch 11/25\n",
            "79/79 [==============================] - 6s 71ms/step - loss: 1.7968 - acc: 0.6632 - val_loss: 2.0796 - val_acc: 0.3753\n",
            "Epoch 12/25\n",
            "79/79 [==============================] - 6s 71ms/step - loss: 1.7862 - acc: 0.6725 - val_loss: 1.9890 - val_acc: 0.4687\n",
            "Epoch 13/25\n",
            "79/79 [==============================] - 6s 71ms/step - loss: 1.7744 - acc: 0.6852 - val_loss: 1.9777 - val_acc: 0.4796\n",
            "Epoch 14/25\n",
            "79/79 [==============================] - 6s 71ms/step - loss: 1.7655 - acc: 0.6931 - val_loss: 1.9706 - val_acc: 0.4876\n",
            "Epoch 15/25\n",
            "79/79 [==============================] - 6s 71ms/step - loss: 1.7555 - acc: 0.7037 - val_loss: 1.9307 - val_acc: 0.5281\n",
            "Epoch 16/25\n",
            "79/79 [==============================] - 6s 71ms/step - loss: 1.7466 - acc: 0.7139 - val_loss: 2.0092 - val_acc: 0.4481\n",
            "Epoch 17/25\n",
            "79/79 [==============================] - 6s 71ms/step - loss: 1.7362 - acc: 0.7234 - val_loss: 2.1586 - val_acc: 0.2986\n",
            "Epoch 18/25\n",
            "79/79 [==============================] - 6s 71ms/step - loss: 1.7310 - acc: 0.7294 - val_loss: 1.9036 - val_acc: 0.5535\n",
            "Epoch 19/25\n",
            "79/79 [==============================] - 6s 71ms/step - loss: 1.7247 - acc: 0.7354 - val_loss: 1.8891 - val_acc: 0.5678\n",
            "Epoch 20/25\n",
            "79/79 [==============================] - 6s 71ms/step - loss: 1.7203 - acc: 0.7392 - val_loss: 2.0619 - val_acc: 0.3965\n",
            "Epoch 21/25\n",
            "79/79 [==============================] - 6s 71ms/step - loss: 1.7149 - acc: 0.7448 - val_loss: 1.9504 - val_acc: 0.5067\n",
            "Epoch 22/25\n",
            "79/79 [==============================] - 6s 71ms/step - loss: 1.7068 - acc: 0.7535 - val_loss: 1.9883 - val_acc: 0.4700\n",
            "Epoch 23/25\n",
            "79/79 [==============================] - 6s 71ms/step - loss: 1.7064 - acc: 0.7538 - val_loss: 1.8921 - val_acc: 0.5661\n",
            "Epoch 24/25\n",
            "79/79 [==============================] - 6s 71ms/step - loss: 1.7019 - acc: 0.7582 - val_loss: 1.8833 - val_acc: 0.5752\n",
            "Epoch 25/25\n",
            "79/79 [==============================] - 6s 71ms/step - loss: 1.6969 - acc: 0.7638 - val_loss: 2.0579 - val_acc: 0.4006\n"
          ],
          "name": "stdout"
        }
      ]
    },
    {
      "cell_type": "code",
      "metadata": {
        "id": "I27AdU-kyQ_C",
        "colab_type": "code",
        "outputId": "c7ca0e0d-1cb3-4697-f02f-7d2a07c144ef",
        "colab": {
          "base_uri": "https://localhost:8080/",
          "height": 51
        }
      },
      "source": [
        "evaluation = model.evaluate( x_test, y_test )\n",
        "print( f'loss: {evaluation[0]:.2f}, acc: {evaluation[1]*100:.2f}%' )"
      ],
      "execution_count": 0,
      "outputs": [
        {
          "output_type": "stream",
          "text": [
            "313/313 [==============================] - 1s 4ms/step - loss: 2.0661 - acc: 0.3931\n",
            "loss: 2.07, acc: 39.31%\n"
          ],
          "name": "stdout"
        }
      ]
    },
    {
      "cell_type": "code",
      "metadata": {
        "id": "7GOphUGLyQ_E",
        "colab_type": "code",
        "colab": {}
      },
      "source": [
        "model.save('resnet_22layers.h5')"
      ],
      "execution_count": 0,
      "outputs": []
    },
    {
      "cell_type": "code",
      "metadata": {
        "id": "P0WnDgZSyQ_G",
        "colab_type": "code",
        "outputId": "3049a709-cd2f-42d6-82ff-aa5963f3ce66",
        "colab": {
          "base_uri": "https://localhost:8080/",
          "height": 279
        }
      },
      "source": [
        "%matplotlib inline\n",
        "import matplotlib.pyplot as plt\n",
        "plt.plot( history.history['acc'] )\n",
        "plt.plot( history.history['val_acc'])\n",
        "plt.xlabel( 'epochs' )\n",
        "plt.ylabel( 'acc' )\n",
        "plt.legend( ['acc', 'val_acc'] )\n",
        "\n",
        "plt.savefig('ResNet_22layers.png')\n",
        "plt.show()"
      ],
      "execution_count": 0,
      "outputs": [
        {
          "output_type": "display_data",
          "data": {
            "image/png": "[encoded data removed]",
            "text/plain": [
              "<Figure size 432x288 with 1 Axes>"
            ]
          },
          "metadata": {
            "tags": [],
            "needs_background": "light"
          }
        }
      ]
    }
  ]
}