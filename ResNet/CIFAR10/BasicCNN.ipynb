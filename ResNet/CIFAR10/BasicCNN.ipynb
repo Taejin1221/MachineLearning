{
 "cells": [
  {
   "cell_type": "code",
   "execution_count": 1,
   "metadata": {},
   "outputs": [],
   "source": [
    "import tensorflow as tf"
   ]
  },
  {
   "cell_type": "code",
   "execution_count": 2,
   "metadata": {},
   "outputs": [
    {
     "name": "stdout",
     "output_type": "stream",
     "text": [
      "(50000, 32, 32, 3) (50000, 10)\n"
     ]
    }
   ],
   "source": [
    "( x_train, y_train ), ( x_test, y_test ) = tf.keras.datasets.cifar10.load_data()\n",
    "\n",
    "x_train = x_train / 255.0\n",
    "x_test = x_test / 255.0\n",
    "\n",
    "y_train = tf.keras.utils.to_categorical( y_train, 10 )\n",
    "y_test = tf.keras.utils.to_categorical( y_test, 10 )\n",
    "\n",
    "print( x_train.shape, y_train.shape )"
   ]
  },
  {
   "cell_type": "code",
   "execution_count": 3,
   "metadata": {},
   "outputs": [],
   "source": [
    "learning_rate = 0.001\n",
    "training_epochs = 25\n",
    "batch_size = 512"
   ]
  },
  {
   "cell_type": "code",
   "execution_count": 4,
   "metadata": {},
   "outputs": [],
   "source": [
    "m1 = tf.keras.Sequential()"
   ]
  },
  {
   "cell_type": "code",
   "execution_count": 5,
   "metadata": {},
   "outputs": [],
   "source": [
    "# layer 1\n",
    "m1.add( tf.keras.layers.Conv2D( filters = 32, kernel_size = [ 3, 3 ],\n",
    "                               padding = 'SAME', activation = 'relu' ) )\n",
    "m1.add( tf.keras.layers.MaxPooling2D( pool_size = [ 2, 2 ],\n",
    "                                    padding = 'SAME', strides = 2 ) )\n",
    "m1.add( tf.keras.layers.Dropout( 0.3 ) )\n",
    "\n",
    "# layer 2\n",
    "m1.add( tf.keras.layers.Conv2D( filters = 64, kernel_size = [ 3, 3 ],\n",
    "                              padding = 'SAME', activation = 'relu' ) )\n",
    "m1.add( tf.keras.layers.MaxPooling2D( pool_size = [ 2, 2 ],\n",
    "                                    padding = 'SAME', strides = 2 ) )\n",
    "m1.add( tf.keras.layers.Dropout( 0.3 ) )\n",
    "\n",
    "# layer 3\n",
    "m1.add( tf.keras.layers.Conv2D( filters = 128, kernel_size = [ 3, 3 ],\n",
    "                              padding = 'SAME', activation = 'relu' ) )\n",
    "m1.add( tf.keras.layers.MaxPooling2D( pool_size = [ 2, 2 ],\n",
    "                                    padding = 'SAME', strides = 2 ) )\n",
    "m1.add( tf.keras.layers.Dropout( 0.3 ) )\n",
    "\n",
    "# Fully connected Layer\n",
    "m1.add( tf.keras.layers.Flatten() )\n",
    "m1.add( tf.keras.layers.Dense( 256, activation = 'relu' ) )\n",
    "m1.add( tf.keras.layers.Dropout( 0.5 ) )\n",
    "\n",
    "# Output Layer\n",
    "m1.add( tf.keras.layers.Dense( units = 10, activation = 'softmax' ) )"
   ]
  },
  {
   "cell_type": "code",
   "execution_count": 6,
   "metadata": {
    "scrolled": true
   },
   "outputs": [
    {
     "name": "stdout",
     "output_type": "stream",
     "text": [
      "Train on 40000 samples, validate on 10000 samples\n",
      "Epoch 1/25\n",
      "40000/40000 [==============================] - 4s 89us/sample - loss: 2.0146 - acc: 0.2531 - val_loss: 1.7264 - val_acc: 0.3859\n",
      "Epoch 2/25\n",
      "40000/40000 [==============================] - 2s 49us/sample - loss: 1.6533 - acc: 0.3957 - val_loss: 1.4876 - val_acc: 0.4788\n",
      "Epoch 3/25\n",
      "40000/40000 [==============================] - 2s 49us/sample - loss: 1.4866 - acc: 0.4556 - val_loss: 1.3797 - val_acc: 0.5121\n",
      "Epoch 4/25\n",
      "40000/40000 [==============================] - 2s 49us/sample - loss: 1.3964 - acc: 0.4953 - val_loss: 1.2722 - val_acc: 0.5583\n",
      "Epoch 5/25\n",
      "40000/40000 [==============================] - 2s 49us/sample - loss: 1.3245 - acc: 0.5230 - val_loss: 1.2098 - val_acc: 0.5788\n",
      "Epoch 6/25\n",
      "40000/40000 [==============================] - 2s 49us/sample - loss: 1.2607 - acc: 0.5500 - val_loss: 1.1325 - val_acc: 0.6054\n",
      "Epoch 7/25\n",
      "40000/40000 [==============================] - 2s 49us/sample - loss: 1.2021 - acc: 0.5738 - val_loss: 1.0763 - val_acc: 0.6228\n",
      "Epoch 8/25\n",
      "40000/40000 [==============================] - 2s 49us/sample - loss: 1.1703 - acc: 0.5859 - val_loss: 1.0716 - val_acc: 0.6221\n",
      "Epoch 9/25\n",
      "40000/40000 [==============================] - 2s 49us/sample - loss: 1.1315 - acc: 0.5976 - val_loss: 1.0222 - val_acc: 0.6392\n",
      "Epoch 10/25\n",
      "40000/40000 [==============================] - 2s 49us/sample - loss: 1.0978 - acc: 0.6093 - val_loss: 0.9774 - val_acc: 0.6577\n",
      "Epoch 11/25\n",
      "40000/40000 [==============================] - 2s 49us/sample - loss: 1.0686 - acc: 0.6230 - val_loss: 0.9520 - val_acc: 0.6640\n",
      "Epoch 12/25\n",
      "40000/40000 [==============================] - 2s 49us/sample - loss: 1.0442 - acc: 0.6324 - val_loss: 0.9377 - val_acc: 0.6690\n",
      "Epoch 13/25\n",
      "40000/40000 [==============================] - 2s 50us/sample - loss: 1.0164 - acc: 0.6430 - val_loss: 0.9452 - val_acc: 0.6717\n",
      "Epoch 14/25\n",
      "40000/40000 [==============================] - 2s 50us/sample - loss: 0.9976 - acc: 0.6475 - val_loss: 0.8961 - val_acc: 0.6873\n",
      "Epoch 15/25\n",
      "40000/40000 [==============================] - 2s 49us/sample - loss: 0.9768 - acc: 0.6551 - val_loss: 0.8747 - val_acc: 0.6988\n",
      "Epoch 16/25\n",
      "40000/40000 [==============================] - 2s 47us/sample - loss: 0.9577 - acc: 0.6628 - val_loss: 0.8896 - val_acc: 0.6877\n",
      "Epoch 17/25\n",
      "40000/40000 [==============================] - 2s 48us/sample - loss: 0.9429 - acc: 0.6689 - val_loss: 0.9244 - val_acc: 0.6692\n",
      "Epoch 18/25\n",
      "40000/40000 [==============================] - 2s 49us/sample - loss: 0.9386 - acc: 0.6693 - val_loss: 0.8294 - val_acc: 0.7135\n",
      "Epoch 19/25\n",
      "40000/40000 [==============================] - 2s 48us/sample - loss: 0.9019 - acc: 0.6826 - val_loss: 0.8188 - val_acc: 0.7104\n",
      "Epoch 20/25\n",
      "40000/40000 [==============================] - 2s 48us/sample - loss: 0.8815 - acc: 0.6905 - val_loss: 0.8129 - val_acc: 0.7118\n",
      "Epoch 21/25\n",
      "40000/40000 [==============================] - 2s 47us/sample - loss: 0.8767 - acc: 0.6899 - val_loss: 0.7866 - val_acc: 0.7213\n",
      "Epoch 22/25\n",
      "40000/40000 [==============================] - 2s 48us/sample - loss: 0.8594 - acc: 0.6985 - val_loss: 0.7787 - val_acc: 0.7251\n",
      "Epoch 23/25\n",
      "40000/40000 [==============================] - 2s 48us/sample - loss: 0.8583 - acc: 0.6985 - val_loss: 0.7679 - val_acc: 0.7305\n",
      "Epoch 24/25\n",
      "40000/40000 [==============================] - 2s 49us/sample - loss: 0.8343 - acc: 0.7081 - val_loss: 0.7473 - val_acc: 0.7366\n",
      "Epoch 25/25\n",
      "40000/40000 [==============================] - 2s 47us/sample - loss: 0.8178 - acc: 0.7147 - val_loss: 0.7557 - val_acc: 0.7339\n"
     ]
    }
   ],
   "source": [
    "m1.compile( loss = 'categorical_crossentropy',\n",
    "           optimizer = tf.keras.optimizers.Adam( learning_rate ),\n",
    "           metrics = [ 'acc' ] )\n",
    "\n",
    "history = m1.fit( x_train, y_train, batch_size = batch_size,\n",
    "                 epochs = training_epochs, validation_split = 0.2 )"
   ]
  },
  {
   "cell_type": "code",
   "execution_count": 7,
   "metadata": {},
   "outputs": [
    {
     "name": "stdout",
     "output_type": "stream",
     "text": [
      "10000/10000 [==============================] - 1s 71us/sample - loss: 0.7644 - acc: 0.7331\n",
      "loss: 0.764423293, Accuracy: 73.31%\n"
     ]
    }
   ],
   "source": [
    "evaluation = m1.evaluate( x_test, y_test )\n",
    "print( 'loss: {:.9f}, Accuracy: {:.2f}%'.format( evaluation[0], evaluation[1] * 100 ) )"
   ]
  },
  {
   "cell_type": "code",
   "execution_count": 9,
   "metadata": {},
   "outputs": [
    {
     "data": {
      "image/png": "[encoded data removed]",
      "text/plain": [
       "<Figure size 432x288 with 1 Axes>"
      ]
     },
     "metadata": {
      "needs_background": "light"
     },
     "output_type": "display_data"
    }
   ],
   "source": [
    "%matplotlib inline\n",
    "import matplotlib.pyplot as plt\n",
    "plt.plot( history.history['acc'] )\n",
    "plt.plot( history.history['val_acc'])\n",
    "plt.xlabel( 'epochs' )\n",
    "plt.ylabel( 'acc' )\n",
    "plt.legend( ['acc', 'val_acc'] )\n",
    "\n",
    "plt.savefig('basicCNN.png')\n",
    "plt.show()"
   ]
  }
 ],
 "metadata": {
  "kernelspec": {
   "display_name": "Python 3",
   "language": "python",
   "name": "python3"
  },
  "language_info": {
   "codemirror_mode": {
    "name": "ipython",
    "version": 3
   },
   "file_extension": ".py",
   "mimetype": "text/x-python",
   "name": "python",
   "nbconvert_exporter": "python",
   "pygments_lexer": "ipython3",
   "version": "3.7.4"
  }
 },
 "nbformat": 4,
 "nbformat_minor": 2
}
