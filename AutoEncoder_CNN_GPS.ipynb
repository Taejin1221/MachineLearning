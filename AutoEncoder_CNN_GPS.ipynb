{
  "nbformat": 4,
  "nbformat_minor": 0,
  "metadata": {
    "colab": {
      "name": "AutoEncoder_CNN_GPS.ipynb",
      "provenance": [],
      "collapsed_sections": [],
      "include_colab_link": true
    },
    "kernelspec": {
      "name": "python3",
      "display_name": "Python 3"
    },
    "accelerator": "GPU"
  },
  "cells": [
    {
      "cell_type": "markdown",
      "metadata": {
        "id": "view-in-github",
        "colab_type": "text"
      },
      "source": [
        "<a href=\"https://colab.research.google.com/github/Taejin1221/MachineLearning/blob/master/AutoEncoder_CNN_GPS.ipynb\" target=\"_parent\"><img src=\"https://colab.research.google.com/assets/colab-badge.svg\" alt=\"Open In Colab\"/></a>"
      ]
    },
    {
      "cell_type": "code",
      "metadata": {
        "id": "BOTp2EQJ_BzM",
        "colab_type": "code",
        "colab": {}
      },
      "source": [
        "import keras\n",
        "import numpy as np\n",
        "\n",
        "import matplotlib.pyplot as plt"
      ],
      "execution_count": 1,
      "outputs": []
    },
    {
      "cell_type": "code",
      "metadata": {
        "id": "ZpqsLf09y4CY",
        "colab_type": "code",
        "colab": {
          "base_uri": "https://localhost:8080/",
          "height": 35
        },
        "outputId": "b78effa9-d528-4845-cf7d-6c40ee53661f"
      },
      "source": [
        "from google.colab import drive\n",
        "drive.mount('/content/drive')"
      ],
      "execution_count": 2,
      "outputs": [
        {
          "output_type": "stream",
          "text": [
            "Drive already mounted at /content/drive; to attempt to forcibly remount, call drive.mount(\"/content/drive\", force_remount=True).\n"
          ],
          "name": "stdout"
        }
      ]
    },
    {
      "cell_type": "code",
      "metadata": {
        "id": "j1RvJdpT5X-_",
        "colab_type": "code",
        "colab": {}
      },
      "source": [
        "data_dir = \"/content/drive/My Drive/University/PiLab/TrajectoryAugmentation/201605_Image/\""
      ],
      "execution_count": 3,
      "outputs": []
    },
    {
      "cell_type": "code",
      "metadata": {
        "id": "7lsmCTmn_BsU",
        "colab_type": "code",
        "colab": {}
      },
      "source": [
        "import os\n",
        "import glob\n",
        "\n",
        "os.chdir( data_dir )\n",
        "\n",
        "files = glob.glob(\"*png\")"
      ],
      "execution_count": 4,
      "outputs": []
    },
    {
      "cell_type": "code",
      "metadata": {
        "id": "zhZCju7xF3b8",
        "colab_type": "code",
        "colab": {}
      },
      "source": [
        "import cv2\n",
        "\n",
        "def get_im(path):\n",
        "  img = cv2.imread(path, 0)\n",
        "  resized = cv2.resize(img, (128, 128))\n",
        "  return resized"
      ],
      "execution_count": 5,
      "outputs": []
    },
    {
      "cell_type": "code",
      "metadata": {
        "id": "W4yti2dA_Bkp",
        "colab_type": "code",
        "colab": {}
      },
      "source": [
        "X_train, X_test = [ ], [ ]\n",
        "\n",
        "i = 0\n",
        "for fl in files:\n",
        "    img = get_im(fl)\n",
        "    if i < 10:\n",
        "        X_test.append( img )\n",
        "        i += 1\n",
        "    else:\n",
        "        X_train.append(img)"
      ],
      "execution_count": 6,
      "outputs": []
    },
    {
      "cell_type": "code",
      "metadata": {
        "id": "zLdYpL-rG28h",
        "colab_type": "code",
        "colab": {
          "base_uri": "https://localhost:8080/",
          "height": 35
        },
        "outputId": "545d4a32-9278-4067-c183-439c6c526a2e"
      },
      "source": [
        "X_train = np.array(X_train)\n",
        "X_train = X_train.astype( 'float32' ) / 255.\n",
        "X_train = np.reshape( X_train, ( len( X_train ), 128, 128, 1 ) )\n",
        "\n",
        "print(np.array(X_train).shape)"
      ],
      "execution_count": 7,
      "outputs": [
        {
          "output_type": "stream",
          "text": [
            "(470, 128, 128, 1)\n"
          ],
          "name": "stdout"
        }
      ]
    },
    {
      "cell_type": "code",
      "metadata": {
        "id": "Z7u_0FbF-VLL",
        "colab_type": "code",
        "colab": {}
      },
      "source": [
        "from keras.layers import Input, Conv2D, MaxPooling2D, UpSampling2D\n",
        "import keras"
      ],
      "execution_count": 13,
      "outputs": []
    },
    {
      "cell_type": "code",
      "metadata": {
        "id": "Hk8cLT6D-h-0",
        "colab_type": "code",
        "colab": {}
      },
      "source": [
        "input_img = Input(shape=(128, 128, 1))\n",
        "\n",
        "# Encoding #\n",
        "x = Conv2D( 64, ( 3, 3 ), activation = 'relu', padding = 'same' )( input_img )\n",
        "x = MaxPooling2D( ( 2, 2 ), padding = 'same' )( x )\n",
        "\n",
        "x = Conv2D( 32, ( 3, 3 ), activation = 'relu', padding = 'same' )( x )\n",
        "x = MaxPooling2D( ( 2, 2 ), padding = 'same' )( x )\n",
        "\n",
        "x = Conv2D( 16, ( 3, 3 ), activation = 'relu', padding = 'same' )( x )\n",
        "x = MaxPooling2D( ( 2, 2 ), padding = 'same' )( x )\n",
        "\n",
        "# Decoding #\n",
        "x = Conv2D( 16, ( 3, 3 ), activation = 'relu', padding = 'same' )( x )\n",
        "x = UpSampling2D( ( 2, 2 ) )( x )\n",
        "\n",
        "x = Conv2D( 32, ( 3, 3 ), activation = 'relu', padding = 'same' )( x )\n",
        "x = UpSampling2D( ( 2, 2 ) )( x )\n",
        "\n",
        "x = Conv2D( 64, ( 3, 3 ), activation = 'relu', padding = 'same' )( x )\n",
        "x = UpSampling2D( ( 2, 2 ) )( x )\n",
        "\n",
        "decoded = Conv2D( 1, ( 3, 3 ), activation = 'sigmoid', padding = 'same' )( x )"
      ],
      "execution_count": 9,
      "outputs": []
    },
    {
      "cell_type": "code",
      "metadata": {
        "id": "MfS_wWoM-pRw",
        "colab_type": "code",
        "colab": {}
      },
      "source": [
        "autoencoder = keras.models.Model( input_img, decoded )\n",
        "autoencoder.compile( optimizer = 'adam', loss = 'binary_crossentropy' )"
      ],
      "execution_count": 14,
      "outputs": []
    },
    {
      "cell_type": "code",
      "metadata": {
        "id": "R1llVVJH628v",
        "colab_type": "code",
        "colab": {
          "base_uri": "https://localhost:8080/",
          "height": 665
        },
        "outputId": "3ab3d805-d365-41ce-b40f-337e57d4b604"
      },
      "source": [
        "autoencoder.summary()"
      ],
      "execution_count": 15,
      "outputs": [
        {
          "output_type": "stream",
          "text": [
            "Model: \"functional_1\"\n",
            "_________________________________________________________________\n",
            "Layer (type)                 Output Shape              Param #   \n",
            "=================================================================\n",
            "input_1 (InputLayer)         [(None, 128, 128, 1)]     0         \n",
            "_________________________________________________________________\n",
            "conv2d (Conv2D)              (None, 128, 128, 64)      640       \n",
            "_________________________________________________________________\n",
            "max_pooling2d (MaxPooling2D) (None, 64, 64, 64)        0         \n",
            "_________________________________________________________________\n",
            "conv2d_1 (Conv2D)            (None, 64, 64, 32)        18464     \n",
            "_________________________________________________________________\n",
            "max_pooling2d_1 (MaxPooling2 (None, 32, 32, 32)        0         \n",
            "_________________________________________________________________\n",
            "conv2d_2 (Conv2D)            (None, 32, 32, 16)        4624      \n",
            "_________________________________________________________________\n",
            "max_pooling2d_2 (MaxPooling2 (None, 16, 16, 16)        0         \n",
            "_________________________________________________________________\n",
            "conv2d_3 (Conv2D)            (None, 16, 16, 16)        2320      \n",
            "_________________________________________________________________\n",
            "up_sampling2d (UpSampling2D) (None, 32, 32, 16)        0         \n",
            "_________________________________________________________________\n",
            "conv2d_4 (Conv2D)            (None, 32, 32, 32)        4640      \n",
            "_________________________________________________________________\n",
            "up_sampling2d_1 (UpSampling2 (None, 64, 64, 32)        0         \n",
            "_________________________________________________________________\n",
            "conv2d_5 (Conv2D)            (None, 64, 64, 64)        18496     \n",
            "_________________________________________________________________\n",
            "up_sampling2d_2 (UpSampling2 (None, 128, 128, 64)      0         \n",
            "_________________________________________________________________\n",
            "conv2d_6 (Conv2D)            (None, 128, 128, 1)       577       \n",
            "=================================================================\n",
            "Total params: 49,761\n",
            "Trainable params: 49,761\n",
            "Non-trainable params: 0\n",
            "_________________________________________________________________\n"
          ],
          "name": "stdout"
        }
      ]
    },
    {
      "cell_type": "code",
      "metadata": {
        "id": "-IzjXSKnH8wG",
        "colab_type": "code",
        "colab": {
          "base_uri": "https://localhost:8080/",
          "height": 1000
        },
        "outputId": "e8f79bed-a3dd-4444-a08e-c396c1a6d569"
      },
      "source": [
        "history = autoencoder.fit(X_train, X_train, epochs = 50, batch_size = 20, shuffle = True )"
      ],
      "execution_count": 16,
      "outputs": [
        {
          "output_type": "stream",
          "text": [
            "Epoch 1/50\n",
            "24/24 [==============================] - 2s 68ms/step - loss: 0.1608\n",
            "Epoch 2/50\n",
            "24/24 [==============================] - 1s 50ms/step - loss: 0.0229\n",
            "Epoch 3/50\n",
            "24/24 [==============================] - 1s 50ms/step - loss: 0.0125\n",
            "Epoch 4/50\n",
            "24/24 [==============================] - 1s 51ms/step - loss: 0.0113\n",
            "Epoch 5/50\n",
            "24/24 [==============================] - 1s 50ms/step - loss: 0.0104\n",
            "Epoch 6/50\n",
            "24/24 [==============================] - 1s 50ms/step - loss: 0.0090\n",
            "Epoch 7/50\n",
            "24/24 [==============================] - 1s 50ms/step - loss: 0.0081\n",
            "Epoch 8/50\n",
            "24/24 [==============================] - 1s 51ms/step - loss: 0.0078\n",
            "Epoch 9/50\n",
            "24/24 [==============================] - 1s 49ms/step - loss: 0.0077\n",
            "Epoch 10/50\n",
            "24/24 [==============================] - 1s 51ms/step - loss: 0.0076\n",
            "Epoch 11/50\n",
            "24/24 [==============================] - 1s 51ms/step - loss: 0.0075\n",
            "Epoch 12/50\n",
            "24/24 [==============================] - 1s 51ms/step - loss: 0.0074\n",
            "Epoch 13/50\n",
            "24/24 [==============================] - 1s 50ms/step - loss: 0.0073\n",
            "Epoch 14/50\n",
            "24/24 [==============================] - 1s 50ms/step - loss: 0.0072\n",
            "Epoch 15/50\n",
            "24/24 [==============================] - 1s 50ms/step - loss: 0.0072\n",
            "Epoch 16/50\n",
            "24/24 [==============================] - 1s 51ms/step - loss: 0.0071\n",
            "Epoch 17/50\n",
            "24/24 [==============================] - 1s 50ms/step - loss: 0.0070\n",
            "Epoch 18/50\n",
            "24/24 [==============================] - 1s 49ms/step - loss: 0.0070\n",
            "Epoch 19/50\n",
            "24/24 [==============================] - 1s 51ms/step - loss: 0.0069\n",
            "Epoch 20/50\n",
            "24/24 [==============================] - 1s 51ms/step - loss: 0.0069\n",
            "Epoch 21/50\n",
            "24/24 [==============================] - 1s 49ms/step - loss: 0.0068\n",
            "Epoch 22/50\n",
            "24/24 [==============================] - 1s 49ms/step - loss: 0.0068\n",
            "Epoch 23/50\n",
            "24/24 [==============================] - 1s 50ms/step - loss: 0.0067\n",
            "Epoch 24/50\n",
            "24/24 [==============================] - 1s 50ms/step - loss: 0.0067\n",
            "Epoch 25/50\n",
            "24/24 [==============================] - 1s 50ms/step - loss: 0.0066\n",
            "Epoch 26/50\n",
            "24/24 [==============================] - 1s 50ms/step - loss: 0.0066\n",
            "Epoch 27/50\n",
            "24/24 [==============================] - 1s 50ms/step - loss: 0.0066\n",
            "Epoch 28/50\n",
            "24/24 [==============================] - 1s 50ms/step - loss: 0.0065\n",
            "Epoch 29/50\n",
            "24/24 [==============================] - 1s 49ms/step - loss: 0.0065\n",
            "Epoch 30/50\n",
            "24/24 [==============================] - 1s 49ms/step - loss: 0.0065\n",
            "Epoch 31/50\n",
            "24/24 [==============================] - 1s 51ms/step - loss: 0.0065\n",
            "Epoch 32/50\n",
            "24/24 [==============================] - 1s 50ms/step - loss: 0.0064\n",
            "Epoch 33/50\n",
            "24/24 [==============================] - 1s 49ms/step - loss: 0.0064\n",
            "Epoch 34/50\n",
            "24/24 [==============================] - 1s 50ms/step - loss: 0.0064\n",
            "Epoch 35/50\n",
            "24/24 [==============================] - 1s 50ms/step - loss: 0.0064\n",
            "Epoch 36/50\n",
            "24/24 [==============================] - 1s 50ms/step - loss: 0.0063\n",
            "Epoch 37/50\n",
            "24/24 [==============================] - 1s 49ms/step - loss: 0.0063\n",
            "Epoch 38/50\n",
            "24/24 [==============================] - 1s 50ms/step - loss: 0.0063\n",
            "Epoch 39/50\n",
            "24/24 [==============================] - 1s 50ms/step - loss: 0.0062\n",
            "Epoch 40/50\n",
            "24/24 [==============================] - 1s 50ms/step - loss: 0.0062\n",
            "Epoch 41/50\n",
            "24/24 [==============================] - 1s 50ms/step - loss: 0.0062\n",
            "Epoch 42/50\n",
            "24/24 [==============================] - 1s 51ms/step - loss: 0.0062\n",
            "Epoch 43/50\n",
            "24/24 [==============================] - 1s 50ms/step - loss: 0.0062\n",
            "Epoch 44/50\n",
            "24/24 [==============================] - 1s 49ms/step - loss: 0.0061\n",
            "Epoch 45/50\n",
            "24/24 [==============================] - 1s 49ms/step - loss: 0.0061\n",
            "Epoch 46/50\n",
            "24/24 [==============================] - 1s 50ms/step - loss: 0.0061\n",
            "Epoch 47/50\n",
            "24/24 [==============================] - 1s 50ms/step - loss: 0.0061\n",
            "Epoch 48/50\n",
            "24/24 [==============================] - 1s 50ms/step - loss: 0.0061\n",
            "Epoch 49/50\n",
            "24/24 [==============================] - 1s 50ms/step - loss: 0.0061\n",
            "Epoch 50/50\n",
            "24/24 [==============================] - 1s 49ms/step - loss: 0.0061\n"
          ],
          "name": "stdout"
        }
      ]
    },
    {
      "cell_type": "code",
      "metadata": {
        "id": "r47kj1j0QlL2",
        "colab_type": "code",
        "colab": {}
      },
      "source": [
        "X_test = np.array(X_test)\n",
        "X_test = X_test.astype('float32')/255.\n",
        "X_test = np.reshape( X_test, ( len( X_test ), 128, 128, 1 ) )"
      ],
      "execution_count": 17,
      "outputs": []
    },
    {
      "cell_type": "code",
      "metadata": {
        "id": "YKbr6T_6IBx9",
        "colab_type": "code",
        "colab": {}
      },
      "source": [
        "decoded_imgs = autoencoder.predict( X_test )"
      ],
      "execution_count": 18,
      "outputs": []
    },
    {
      "cell_type": "code",
      "metadata": {
        "id": "nC0AFLCTP08h",
        "colab_type": "code",
        "colab": {
          "base_uri": "https://localhost:8080/",
          "height": 248
        },
        "outputId": "d0200ea6-9600-442f-a1f5-b464cdd32e58"
      },
      "source": [
        "import matplotlib.pyplot as plt\n",
        "\n",
        "n = 10  # 몇 개의 숫자를 나타낼 것인지\n",
        "plt.figure(figsize=(20, 4))\n",
        "for i in range(n):\n",
        "    # 원본 데이터\n",
        "    ax = plt.subplot(2, n, i + 1)\n",
        "    plt.imshow(X_test[i].reshape(128 , 128))\n",
        "    plt.gray()\n",
        "    ax.get_xaxis().set_visible(False)\n",
        "    ax.get_yaxis().set_visible(False)\n",
        "\n",
        "    # 재구성된 데이터\n",
        "    ax = plt.subplot(2, n, i + 1 + n)\n",
        "    plt.imshow(decoded_imgs[i].reshape(128, 128))\n",
        "    plt.gray()\n",
        "    ax.get_xaxis().set_visible(False)\n",
        "    ax.get_yaxis().set_visible(False)\n",
        "plt.show()"
      ],
      "execution_count": 19,
      "outputs": [
        {
          "output_type": "display_data",
          "data": {
            "image/png": "[encoded data removed]",
            "text/plain": [
              "<Figure size 1440x288 with 20 Axes>"
            ]
          },
          "metadata": {
            "tags": [],
            "needs_background": "light"
          }
        }
      ]
    }
  ]
}