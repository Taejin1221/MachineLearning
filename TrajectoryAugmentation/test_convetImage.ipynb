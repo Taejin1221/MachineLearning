{
  "nbformat": 4,
  "nbformat_minor": 0,
  "metadata": {
    "colab": {
      "name": "test_converImage.ipynb",
      "provenance": [],
      "collapsed_sections": [],
      "authorship_tag": "ABX9TyMObiV3F3mTuOHmsHHdvHr5",
      "include_colab_link": true
    },
    "kernelspec": {
      "name": "python3",
      "display_name": "Python 3"
    },
    "accelerator": "GPU"
  },
  "cells": [
    {
      "cell_type": "markdown",
      "metadata": {
        "id": "view-in-github",
        "colab_type": "text"
      },
      "source": [
        "<a href=\"https://colab.research.google.com/github/Taejin1221/MachineLearning/blob/master/TrajectoryAugmentation/test_convetImage.ipynb\" target=\"_parent\"><img src=\"https://colab.research.google.com/assets/colab-badge.svg\" alt=\"Open In Colab\"/></a>"
      ]
    },
    {
      "cell_type": "code",
      "metadata": {
        "id": "MAG3BG6tTI9L"
      },
      "source": [
        "import random, cv2\n",
        "import numpy as np\n",
        "import pandas as pd"
      ],
      "execution_count": 1,
      "outputs": []
    },
    {
      "cell_type": "code",
      "metadata": {
        "id": "HAAuxEjlTVFn"
      },
      "source": [
        "# 빈 캔버스 만들기\n",
        "def init() -> np.array: \n",
        "    blank = np.zeros([512,512],dtype=np.uint8)\n",
        "    blank.fill(0)\n",
        "    blank = cv2.resize(blank,(512,512))\n",
        "\n",
        "    return blank\n",
        "\n",
        "# Convert 0-1 Images into 0-255 Image\n",
        "def drawNp(img: np.array) -> np.array:\n",
        "    blank = init()\n",
        "\n",
        "    rowChange = [ -1, -1, -1, 0, 0, 0, 1, 1, 1 ]\n",
        "    colChange = [ -1, 0, 1, -1, 0, 1, -1, 0, 1 ]\n",
        "    for i in range(0,img.shape[0]):\n",
        "        for j in range(0,img.shape[1]):\n",
        "            if img[i][j] == 1 :\n",
        "                for rc, cc in zip( rowChange, colChange ):\n",
        "                    newRow, newCol = i + rc, j + cc\n",
        "                    if ( 0 <= newRow < img.shape[0] and 0 <= newCol < img.shape[1] ):\n",
        "                        blank[newRow][newCol] = 255\n",
        "\n",
        "    return blank"
      ],
      "execution_count": 2,
      "outputs": []
    },
    {
      "cell_type": "code",
      "metadata": {
        "id": "JhCg0Hu_TXEU"
      },
      "source": [
        "# Convert csv File to Image\n",
        "def map2Image(minX: float, minY: float, maxX: float, maxY: float, csv_file: pd.DataFrame) -> np.array:\n",
        "    inputImage = np.zeros([512,512], dtype=np.uint8)\n",
        "\n",
        "    for i in range(0,csv_file.shape[0]):\n",
        "        x = csv_file.loc[i][0]\n",
        "        y = csv_file.loc[i][1]\n",
        "\n",
        "        # Print Dot\n",
        "        mapX = int(round(np.interp(x,[minX,maxX],[0,500])))\n",
        "        mapY = int(round(np.interp(y,[minY,maxY],[0,500])))\n",
        "        inputImage[mapX][mapY] = 1\n",
        "\n",
        "    outputImage = drawNp(inputImage)\n",
        "\n",
        "    rotImage = np.rot90(outputImage)\n",
        "\n",
        "    return rotImage\n",
        "\n",
        "\n",
        "# Convert csv File to Image with Noise\n",
        "def map2Image_noise(minX: float, minY: float, maxX: float, maxY: float, csv_file: pd.DataFrame) -> np.array:\n",
        "    inputImage = np.zeros([512,512], dtype=np.uint8)\n",
        "\n",
        "    randomList = set()\n",
        "    while len(randomList) < int(csv_file.shape[0] / 7):\n",
        "        randomList.add(random.randint(0,csv_file.shape[0]))\n",
        "\n",
        "    randomList=list(randomList)\n",
        "    dicisionList = [1,-1]\n",
        "\n",
        "    for i in range(0, csv_file.shape[0]):\n",
        "        try:\n",
        "            # Generate Noise\n",
        "            randomList.index(i)\n",
        "\n",
        "            r = random.uniform((minX - maxX) / 40,(minX - maxX) / 20)\n",
        "            D = random.choice(dicisionList)\n",
        "\n",
        "            x = csv_file.loc[i][0] - (D * r)\n",
        "            y = csv_file.loc[i][1] - (D * r)\n",
        "\n",
        "            # Paint dot\n",
        "            mapX = int(round(np.interp(x,[minX,maxX],[0,500])))\n",
        "            mapY = int(round(np.interp(y,[minY,maxY], [0,500])))\n",
        "            inputImage[mapX][mapY] = 1\n",
        "\n",
        "        except:\n",
        "            x = csv_file.loc[i][0]\n",
        "            y = csv_file.loc[i][1]\n",
        "\n",
        "            mapX = int(round(np.interp(x,[minX,maxX],[0,500])))\n",
        "            mapY = int(round(np.interp(y,[minY,maxY], [0,500])))\n",
        "            inputImage[mapX][mapY] = 1\n",
        "\n",
        "\n",
        "    outputImage = drawNp(inputImage)\n",
        "\n",
        "    rotImage = np.rot90(outputImage)\n",
        "\n",
        "    return rotImage\n",
        "\n",
        "\n",
        "def map2Image_remove(minX: float, minY: float, maxX: float, maxY: float, csv_file: pd.DataFrame) -> np.array:\n",
        "    inputImage = np.zeros([512,512], dtype=np.uint8)\n",
        "\n",
        "    removeList = [ ]\n",
        "    fileNum = csv_file.shape[0]\n",
        "    for _ in range( int( fileNum * 0.5 ) ):\n",
        "        idx = random.randint( 0, fileNum )\n",
        "        while ( idx in removeList ):\n",
        "            idx = random.randint( 0, fileNum )\n",
        "\n",
        "        removeList.append( idx )\n",
        "\n",
        "    for i in range(0, fileNum):\n",
        "        if ( i in removeList ):\n",
        "            continue\n",
        "\n",
        "        x = csv_file.loc[i][0]\n",
        "        y = csv_file.loc[i][1]\n",
        "\n",
        "        # Print Dot\n",
        "        mapX = int(round(np.interp(x,[minX,maxX],[0,500])))\n",
        "        mapY = int(round(np.interp(y,[minY,maxY],[0,500])))\n",
        "        inputImage[mapX][mapY] = 1\n",
        "\n",
        "    outputImage = drawNp(inputImage)\n",
        "\n",
        "    rotImage = np.rot90(outputImage)\n",
        "\n",
        "    return rotImage\n"
      ],
      "execution_count": 3,
      "outputs": []
    },
    {
      "cell_type": "code",
      "metadata": {
        "id": "SQjEXhS1TeWs"
      },
      "source": [
        "# Return Max and Min X,Y Coordinate Value of file\n",
        "def coorMaxMin(file: pd.DataFrame) -> (float, float, float, float):\n",
        "    minX, minY = (file.loc[0][0], file.loc[0][1])\n",
        "    maxX, maxY = (file.loc[0][0], file.loc[0][1])\n",
        "    for i in range(0,file.shape[0]):\n",
        "        x = file.loc[i][0]\n",
        "        y = file.loc[i][1]\n",
        "        if x > maxX :\n",
        "            maxX = x\n",
        "        if x < minX :\n",
        "            minX = x\n",
        "        if y > maxY :\n",
        "            maxY = y\n",
        "        if y < minY :\n",
        "            minY = y\n",
        "    return minX, minY, maxX, maxY"
      ],
      "execution_count": 4,
      "outputs": []
    },
    {
      "cell_type": "code",
      "metadata": {
        "id": "awq0gtWVU0su"
      },
      "source": [
        "import glob"
      ],
      "execution_count": 5,
      "outputs": []
    },
    {
      "cell_type": "code",
      "metadata": {
        "colab": {
          "base_uri": "https://localhost:8080/",
          "height": 1000
        },
        "id": "TnRiDO0QTk6e",
        "outputId": "f4e25d0e-e237-4131-cd6b-03e7f289d4bc"
      },
      "source": [
        "from google.colab.patches import cv2_imshow\n",
        "\n",
        "trainFiles = glob.glob( '*csv' )\n",
        "\n",
        "for f in trainFiles:\n",
        "    csv_file = pd.read_csv( f, names = [ 'lat', 'long', 'num' ], header = None )\n",
        "    maxMinValues = coorMaxMin( csv_file )\n",
        "\n",
        "    resultImage = map2Image( *maxMinValues, csv_file )\n",
        "\n",
        "    cv2_imshow( resultImage )"
      ],
      "execution_count": 6,
      "outputs": [
        {
          "output_type": "display_data",
          "data": {
            "image/png": "[encoded data removed]",
            "text/plain": [
              "<PIL.Image.Image image mode=L size=512x512 at 0x7F88F9D7D2B0>"
            ]
          },
          "metadata": {
            "tags": []
          }
        },
        {
          "output_type": "display_data",
          "data": {
            "image/png": "[encoded data removed]",
            "text/plain": [
              "<PIL.Image.Image image mode=L size=512x512 at 0x7F88FEC14240>"
            ]
          },
          "metadata": {
            "tags": []
          }
        },
        {
          "output_type": "display_data",
          "data": {
            "image/png": "[encoded data removed]",
            "text/plain": [
              "<PIL.Image.Image image mode=L size=512x512 at 0x7F88FEC04C88>"
            ]
          },
          "metadata": {
            "tags": []
          }
        }
      ]
    },
    {
      "cell_type": "code",
      "metadata": {
        "id": "R6rlTlJDUyrL"
      },
      "source": [
        ""
      ],
      "execution_count": 6,
      "outputs": []
    }
  ]
}