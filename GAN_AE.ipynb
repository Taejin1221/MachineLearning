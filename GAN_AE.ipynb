{
  "nbformat": 4,
  "nbformat_minor": 0,
  "metadata": {
    "colab": {
      "name": "GAN.ipynb",
      "provenance": [],
      "collapsed_sections": [],
      "toc_visible": true,
      "authorship_tag": "ABX9TyOp5zV1jswKw0QMdtGFjiSI",
      "include_colab_link": true
    },
    "kernelspec": {
      "name": "python3",
      "display_name": "Python 3"
    },
    "accelerator": "GPU"
  },
  "cells": [
    {
      "cell_type": "markdown",
      "metadata": {
        "id": "view-in-github",
        "colab_type": "text"
      },
      "source": [
        "<a href=\"https://colab.research.google.com/github/Taejin1221/MachineLearning/blob/master/GAN_AE.ipynb\" target=\"_parent\"><img src=\"https://colab.research.google.com/assets/colab-badge.svg\" alt=\"Open In Colab\"/></a>"
      ]
    },
    {
      "cell_type": "markdown",
      "metadata": {
        "id": "2ir0MzpcMsuH"
      },
      "source": [
        "# Import Modules"
      ]
    },
    {
      "cell_type": "code",
      "metadata": {
        "id": "C8ArzIVRLo_5"
      },
      "source": [
        "import glob, time, cv2, os\n",
        "import numpy as np\n",
        "import matplotlib.pyplot as plt"
      ],
      "execution_count": 1,
      "outputs": []
    },
    {
      "cell_type": "code",
      "metadata": {
        "id": "gzcOKcYOBJMq"
      },
      "source": [
        "CURR_DIR = '/content/'\n",
        "\n",
        "X_DATA_DIR =  CURR_DIR + 'train_x_data'\n",
        "Y_DATA_DIR = CURR_DIR + 'train_y_data'\n",
        "TEST_DIR = CURR_DIR + 'test_data'"
      ],
      "execution_count": 2,
      "outputs": []
    },
    {
      "cell_type": "code",
      "metadata": {
        "id": "IOGio1_EBKL3"
      },
      "source": [
        "IMG_SIZE = 256"
      ],
      "execution_count": 3,
      "outputs": []
    },
    {
      "cell_type": "markdown",
      "metadata": {
        "id": "1KjYfu9MMih-"
      },
      "source": [
        "# Make Data"
      ]
    },
    {
      "cell_type": "code",
      "metadata": {
        "id": "4EPR2-XV7NGg"
      },
      "source": [
        "x_data = np.linspace( -10, 10, 50 )\n",
        "\n",
        "y_data1 = x_data\n",
        "y_data2 = x_data ** 2\n",
        "y_data3 = x_data ** 3 \n",
        "\n",
        "Y_data = [ y_data1, y_data2, y_data3 ]"
      ],
      "execution_count": 4,
      "outputs": []
    },
    {
      "cell_type": "code",
      "metadata": {
        "id": "7cGIJqsmIWlL"
      },
      "source": [
        "file_list = os.listdir( '/' )\n",
        "\n",
        "if ( X_DATA_DIR not in file_list ):\n",
        "    os.mkdir( X_DATA_DIR )\n",
        "\n",
        "if ( Y_DATA_DIR not in file_list ):\n",
        "    os.mkdir( Y_DATA_DIR )\n",
        "\n",
        "if ( TEST_DIR not in file_list ):\n",
        "    os.mkdir( TEST_DIR )"
      ],
      "execution_count": null,
      "outputs": []
    },
    {
      "cell_type": "code",
      "metadata": {
        "colab": {
          "base_uri": "https://localhost:8080/",
          "height": 1000
        },
        "id": "JOBgcczT7PgW",
        "outputId": "f3fb1209-4ef6-40b7-f8b8-6430bc4bda71"
      },
      "source": [
        "n = len( Y_data ) * 10\n",
        "\n",
        "figSize = ( IMG_SIZE / 100, IMG_SIZE / 100 )\n",
        "\n",
        "os.chdir( X_DATA_DIR )\n",
        "for i in range( n ):\n",
        "    plt.figure( figsize = figSize, dpi = 100 )\n",
        "\n",
        "    plt.plot( x_data, Y_data[i // 10], 'k.' )\n",
        "    plt.axis( [ -10, 10, -50, 50 ] )\n",
        "    plt.axis( 'off' )\n",
        "\n",
        "    fileName = '0' + str( i ) if i < 10 else i\n",
        "    plt.savefig( f'graph_x_{ fileName }.png'  )\n",
        "    plt.clf()\n",
        "\n",
        "os.chdir( Y_DATA_DIR )\n",
        "for i in range( n ):\n",
        "    plt.figure( figsize = figSize, dpi = 100 )\n",
        "\n",
        "    plt.plot( x_data, Y_data[i // 10], 'k-' )\n",
        "    plt.axis( [ -10, 10, -50, 50 ] )\n",
        "    plt.axis( 'off' )\n",
        "\n",
        "    fileName = '0' + str( i ) if i < 10 else i\n",
        "    plt.savefig( f'graph_y_{ fileName }.png'  )\n",
        "    plt.clf()"
      ],
      "execution_count": 6,
      "outputs": [
        {
          "output_type": "stream",
          "text": [
            "/usr/local/lib/python3.6/dist-packages/ipykernel_launcher.py:7: RuntimeWarning: More than 20 figures have been opened. Figures created through the pyplot interface (`matplotlib.pyplot.figure`) are retained until explicitly closed and may consume too much memory. (To control this warning, see the rcParam `figure.max_open_warning`).\n",
            "  import sys\n",
            "/usr/local/lib/python3.6/dist-packages/ipykernel_launcher.py:7: RuntimeWarning: More than 20 figures have been opened. Figures created through the pyplot interface (`matplotlib.pyplot.figure`) are retained until explicitly closed and may consume too much memory. (To control this warning, see the rcParam `figure.max_open_warning`).\n",
            "  import sys\n",
            "/usr/local/lib/python3.6/dist-packages/ipykernel_launcher.py:7: RuntimeWarning: More than 20 figures have been opened. Figures created through the pyplot interface (`matplotlib.pyplot.figure`) are retained until explicitly closed and may consume too much memory. (To control this warning, see the rcParam `figure.max_open_warning`).\n",
            "  import sys\n",
            "/usr/local/lib/python3.6/dist-packages/ipykernel_launcher.py:7: RuntimeWarning: More than 20 figures have been opened. Figures created through the pyplot interface (`matplotlib.pyplot.figure`) are retained until explicitly closed and may consume too much memory. (To control this warning, see the rcParam `figure.max_open_warning`).\n",
            "  import sys\n",
            "/usr/local/lib/python3.6/dist-packages/ipykernel_launcher.py:7: RuntimeWarning: More than 20 figures have been opened. Figures created through the pyplot interface (`matplotlib.pyplot.figure`) are retained until explicitly closed and may consume too much memory. (To control this warning, see the rcParam `figure.max_open_warning`).\n",
            "  import sys\n",
            "/usr/local/lib/python3.6/dist-packages/ipykernel_launcher.py:7: RuntimeWarning: More than 20 figures have been opened. Figures created through the pyplot interface (`matplotlib.pyplot.figure`) are retained until explicitly closed and may consume too much memory. (To control this warning, see the rcParam `figure.max_open_warning`).\n",
            "  import sys\n",
            "/usr/local/lib/python3.6/dist-packages/ipykernel_launcher.py:7: RuntimeWarning: More than 20 figures have been opened. Figures created through the pyplot interface (`matplotlib.pyplot.figure`) are retained until explicitly closed and may consume too much memory. (To control this warning, see the rcParam `figure.max_open_warning`).\n",
            "  import sys\n",
            "/usr/local/lib/python3.6/dist-packages/ipykernel_launcher.py:7: RuntimeWarning: More than 20 figures have been opened. Figures created through the pyplot interface (`matplotlib.pyplot.figure`) are retained until explicitly closed and may consume too much memory. (To control this warning, see the rcParam `figure.max_open_warning`).\n",
            "  import sys\n",
            "/usr/local/lib/python3.6/dist-packages/ipykernel_launcher.py:7: RuntimeWarning: More than 20 figures have been opened. Figures created through the pyplot interface (`matplotlib.pyplot.figure`) are retained until explicitly closed and may consume too much memory. (To control this warning, see the rcParam `figure.max_open_warning`).\n",
            "  import sys\n",
            "/usr/local/lib/python3.6/dist-packages/ipykernel_launcher.py:7: RuntimeWarning: More than 20 figures have been opened. Figures created through the pyplot interface (`matplotlib.pyplot.figure`) are retained until explicitly closed and may consume too much memory. (To control this warning, see the rcParam `figure.max_open_warning`).\n",
            "  import sys\n",
            "/usr/local/lib/python3.6/dist-packages/ipykernel_launcher.py:19: RuntimeWarning: More than 20 figures have been opened. Figures created through the pyplot interface (`matplotlib.pyplot.figure`) are retained until explicitly closed and may consume too much memory. (To control this warning, see the rcParam `figure.max_open_warning`).\n",
            "/usr/local/lib/python3.6/dist-packages/ipykernel_launcher.py:19: RuntimeWarning: More than 20 figures have been opened. Figures created through the pyplot interface (`matplotlib.pyplot.figure`) are retained until explicitly closed and may consume too much memory. (To control this warning, see the rcParam `figure.max_open_warning`).\n",
            "/usr/local/lib/python3.6/dist-packages/ipykernel_launcher.py:19: RuntimeWarning: More than 20 figures have been opened. Figures created through the pyplot interface (`matplotlib.pyplot.figure`) are retained until explicitly closed and may consume too much memory. (To control this warning, see the rcParam `figure.max_open_warning`).\n",
            "/usr/local/lib/python3.6/dist-packages/ipykernel_launcher.py:19: RuntimeWarning: More than 20 figures have been opened. Figures created through the pyplot interface (`matplotlib.pyplot.figure`) are retained until explicitly closed and may consume too much memory. (To control this warning, see the rcParam `figure.max_open_warning`).\n",
            "/usr/local/lib/python3.6/dist-packages/ipykernel_launcher.py:19: RuntimeWarning: More than 20 figures have been opened. Figures created through the pyplot interface (`matplotlib.pyplot.figure`) are retained until explicitly closed and may consume too much memory. (To control this warning, see the rcParam `figure.max_open_warning`).\n",
            "/usr/local/lib/python3.6/dist-packages/ipykernel_launcher.py:19: RuntimeWarning: More than 20 figures have been opened. Figures created through the pyplot interface (`matplotlib.pyplot.figure`) are retained until explicitly closed and may consume too much memory. (To control this warning, see the rcParam `figure.max_open_warning`).\n",
            "/usr/local/lib/python3.6/dist-packages/ipykernel_launcher.py:19: RuntimeWarning: More than 20 figures have been opened. Figures created through the pyplot interface (`matplotlib.pyplot.figure`) are retained until explicitly closed and may consume too much memory. (To control this warning, see the rcParam `figure.max_open_warning`).\n",
            "/usr/local/lib/python3.6/dist-packages/ipykernel_launcher.py:19: RuntimeWarning: More than 20 figures have been opened. Figures created through the pyplot interface (`matplotlib.pyplot.figure`) are retained until explicitly closed and may consume too much memory. (To control this warning, see the rcParam `figure.max_open_warning`).\n",
            "/usr/local/lib/python3.6/dist-packages/ipykernel_launcher.py:19: RuntimeWarning: More than 20 figures have been opened. Figures created through the pyplot interface (`matplotlib.pyplot.figure`) are retained until explicitly closed and may consume too much memory. (To control this warning, see the rcParam `figure.max_open_warning`).\n",
            "/usr/local/lib/python3.6/dist-packages/ipykernel_launcher.py:19: RuntimeWarning: More than 20 figures have been opened. Figures created through the pyplot interface (`matplotlib.pyplot.figure`) are retained until explicitly closed and may consume too much memory. (To control this warning, see the rcParam `figure.max_open_warning`).\n",
            "/usr/local/lib/python3.6/dist-packages/ipykernel_launcher.py:19: RuntimeWarning: More than 20 figures have been opened. Figures created through the pyplot interface (`matplotlib.pyplot.figure`) are retained until explicitly closed and may consume too much memory. (To control this warning, see the rcParam `figure.max_open_warning`).\n",
            "/usr/local/lib/python3.6/dist-packages/ipykernel_launcher.py:19: RuntimeWarning: More than 20 figures have been opened. Figures created through the pyplot interface (`matplotlib.pyplot.figure`) are retained until explicitly closed and may consume too much memory. (To control this warning, see the rcParam `figure.max_open_warning`).\n",
            "/usr/local/lib/python3.6/dist-packages/ipykernel_launcher.py:19: RuntimeWarning: More than 20 figures have been opened. Figures created through the pyplot interface (`matplotlib.pyplot.figure`) are retained until explicitly closed and may consume too much memory. (To control this warning, see the rcParam `figure.max_open_warning`).\n",
            "/usr/local/lib/python3.6/dist-packages/ipykernel_launcher.py:19: RuntimeWarning: More than 20 figures have been opened. Figures created through the pyplot interface (`matplotlib.pyplot.figure`) are retained until explicitly closed and may consume too much memory. (To control this warning, see the rcParam `figure.max_open_warning`).\n",
            "/usr/local/lib/python3.6/dist-packages/ipykernel_launcher.py:19: RuntimeWarning: More than 20 figures have been opened. Figures created through the pyplot interface (`matplotlib.pyplot.figure`) are retained until explicitly closed and may consume too much memory. (To control this warning, see the rcParam `figure.max_open_warning`).\n",
            "/usr/local/lib/python3.6/dist-packages/ipykernel_launcher.py:19: RuntimeWarning: More than 20 figures have been opened. Figures created through the pyplot interface (`matplotlib.pyplot.figure`) are retained until explicitly closed and may consume too much memory. (To control this warning, see the rcParam `figure.max_open_warning`).\n",
            "/usr/local/lib/python3.6/dist-packages/ipykernel_launcher.py:19: RuntimeWarning: More than 20 figures have been opened. Figures created through the pyplot interface (`matplotlib.pyplot.figure`) are retained until explicitly closed and may consume too much memory. (To control this warning, see the rcParam `figure.max_open_warning`).\n",
            "/usr/local/lib/python3.6/dist-packages/ipykernel_launcher.py:19: RuntimeWarning: More than 20 figures have been opened. Figures created through the pyplot interface (`matplotlib.pyplot.figure`) are retained until explicitly closed and may consume too much memory. (To control this warning, see the rcParam `figure.max_open_warning`).\n",
            "/usr/local/lib/python3.6/dist-packages/ipykernel_launcher.py:19: RuntimeWarning: More than 20 figures have been opened. Figures created through the pyplot interface (`matplotlib.pyplot.figure`) are retained until explicitly closed and may consume too much memory. (To control this warning, see the rcParam `figure.max_open_warning`).\n",
            "/usr/local/lib/python3.6/dist-packages/ipykernel_launcher.py:19: RuntimeWarning: More than 20 figures have been opened. Figures created through the pyplot interface (`matplotlib.pyplot.figure`) are retained until explicitly closed and may consume too much memory. (To control this warning, see the rcParam `figure.max_open_warning`).\n",
            "/usr/local/lib/python3.6/dist-packages/ipykernel_launcher.py:19: RuntimeWarning: More than 20 figures have been opened. Figures created through the pyplot interface (`matplotlib.pyplot.figure`) are retained until explicitly closed and may consume too much memory. (To control this warning, see the rcParam `figure.max_open_warning`).\n",
            "/usr/local/lib/python3.6/dist-packages/ipykernel_launcher.py:19: RuntimeWarning: More than 20 figures have been opened. Figures created through the pyplot interface (`matplotlib.pyplot.figure`) are retained until explicitly closed and may consume too much memory. (To control this warning, see the rcParam `figure.max_open_warning`).\n",
            "/usr/local/lib/python3.6/dist-packages/ipykernel_launcher.py:19: RuntimeWarning: More than 20 figures have been opened. Figures created through the pyplot interface (`matplotlib.pyplot.figure`) are retained until explicitly closed and may consume too much memory. (To control this warning, see the rcParam `figure.max_open_warning`).\n",
            "/usr/local/lib/python3.6/dist-packages/ipykernel_launcher.py:19: RuntimeWarning: More than 20 figures have been opened. Figures created through the pyplot interface (`matplotlib.pyplot.figure`) are retained until explicitly closed and may consume too much memory. (To control this warning, see the rcParam `figure.max_open_warning`).\n",
            "/usr/local/lib/python3.6/dist-packages/ipykernel_launcher.py:19: RuntimeWarning: More than 20 figures have been opened. Figures created through the pyplot interface (`matplotlib.pyplot.figure`) are retained until explicitly closed and may consume too much memory. (To control this warning, see the rcParam `figure.max_open_warning`).\n",
            "/usr/local/lib/python3.6/dist-packages/ipykernel_launcher.py:19: RuntimeWarning: More than 20 figures have been opened. Figures created through the pyplot interface (`matplotlib.pyplot.figure`) are retained until explicitly closed and may consume too much memory. (To control this warning, see the rcParam `figure.max_open_warning`).\n",
            "/usr/local/lib/python3.6/dist-packages/ipykernel_launcher.py:19: RuntimeWarning: More than 20 figures have been opened. Figures created through the pyplot interface (`matplotlib.pyplot.figure`) are retained until explicitly closed and may consume too much memory. (To control this warning, see the rcParam `figure.max_open_warning`).\n",
            "/usr/local/lib/python3.6/dist-packages/ipykernel_launcher.py:19: RuntimeWarning: More than 20 figures have been opened. Figures created through the pyplot interface (`matplotlib.pyplot.figure`) are retained until explicitly closed and may consume too much memory. (To control this warning, see the rcParam `figure.max_open_warning`).\n",
            "/usr/local/lib/python3.6/dist-packages/ipykernel_launcher.py:19: RuntimeWarning: More than 20 figures have been opened. Figures created through the pyplot interface (`matplotlib.pyplot.figure`) are retained until explicitly closed and may consume too much memory. (To control this warning, see the rcParam `figure.max_open_warning`).\n",
            "/usr/local/lib/python3.6/dist-packages/ipykernel_launcher.py:19: RuntimeWarning: More than 20 figures have been opened. Figures created through the pyplot interface (`matplotlib.pyplot.figure`) are retained until explicitly closed and may consume too much memory. (To control this warning, see the rcParam `figure.max_open_warning`).\n"
          ],
          "name": "stderr"
        },
        {
          "output_type": "display_data",
          "data": {
            "text/plain": [
              "<Figure size 256x256 with 0 Axes>"
            ]
          },
          "metadata": {
            "tags": []
          }
        },
        {
          "output_type": "display_data",
          "data": {
            "text/plain": [
              "<Figure size 256x256 with 0 Axes>"
            ]
          },
          "metadata": {
            "tags": []
          }
        },
        {
          "output_type": "display_data",
          "data": {
            "text/plain": [
              "<Figure size 256x256 with 0 Axes>"
            ]
          },
          "metadata": {
            "tags": []
          }
        },
        {
          "output_type": "display_data",
          "data": {
            "text/plain": [
              "<Figure size 256x256 with 0 Axes>"
            ]
          },
          "metadata": {
            "tags": []
          }
        },
        {
          "output_type": "display_data",
          "data": {
            "text/plain": [
              "<Figure size 256x256 with 0 Axes>"
            ]
          },
          "metadata": {
            "tags": []
          }
        },
        {
          "output_type": "display_data",
          "data": {
            "text/plain": [
              "<Figure size 256x256 with 0 Axes>"
            ]
          },
          "metadata": {
            "tags": []
          }
        },
        {
          "output_type": "display_data",
          "data": {
            "text/plain": [
              "<Figure size 256x256 with 0 Axes>"
            ]
          },
          "metadata": {
            "tags": []
          }
        },
        {
          "output_type": "display_data",
          "data": {
            "text/plain": [
              "<Figure size 256x256 with 0 Axes>"
            ]
          },
          "metadata": {
            "tags": []
          }
        },
        {
          "output_type": "display_data",
          "data": {
            "text/plain": [
              "<Figure size 256x256 with 0 Axes>"
            ]
          },
          "metadata": {
            "tags": []
          }
        },
        {
          "output_type": "display_data",
          "data": {
            "text/plain": [
              "<Figure size 256x256 with 0 Axes>"
            ]
          },
          "metadata": {
            "tags": []
          }
        },
        {
          "output_type": "display_data",
          "data": {
            "text/plain": [
              "<Figure size 256x256 with 0 Axes>"
            ]
          },
          "metadata": {
            "tags": []
          }
        },
        {
          "output_type": "display_data",
          "data": {
            "text/plain": [
              "<Figure size 256x256 with 0 Axes>"
            ]
          },
          "metadata": {
            "tags": []
          }
        },
        {
          "output_type": "display_data",
          "data": {
            "text/plain": [
              "<Figure size 256x256 with 0 Axes>"
            ]
          },
          "metadata": {
            "tags": []
          }
        },
        {
          "output_type": "display_data",
          "data": {
            "text/plain": [
              "<Figure size 256x256 with 0 Axes>"
            ]
          },
          "metadata": {
            "tags": []
          }
        },
        {
          "output_type": "display_data",
          "data": {
            "text/plain": [
              "<Figure size 256x256 with 0 Axes>"
            ]
          },
          "metadata": {
            "tags": []
          }
        },
        {
          "output_type": "display_data",
          "data": {
            "text/plain": [
              "<Figure size 256x256 with 0 Axes>"
            ]
          },
          "metadata": {
            "tags": []
          }
        },
        {
          "output_type": "display_data",
          "data": {
            "text/plain": [
              "<Figure size 256x256 with 0 Axes>"
            ]
          },
          "metadata": {
            "tags": []
          }
        },
        {
          "output_type": "display_data",
          "data": {
            "text/plain": [
              "<Figure size 256x256 with 0 Axes>"
            ]
          },
          "metadata": {
            "tags": []
          }
        },
        {
          "output_type": "display_data",
          "data": {
            "text/plain": [
              "<Figure size 256x256 with 0 Axes>"
            ]
          },
          "metadata": {
            "tags": []
          }
        },
        {
          "output_type": "display_data",
          "data": {
            "text/plain": [
              "<Figure size 256x256 with 0 Axes>"
            ]
          },
          "metadata": {
            "tags": []
          }
        },
        {
          "output_type": "display_data",
          "data": {
            "text/plain": [
              "<Figure size 256x256 with 0 Axes>"
            ]
          },
          "metadata": {
            "tags": []
          }
        },
        {
          "output_type": "display_data",
          "data": {
            "text/plain": [
              "<Figure size 256x256 with 0 Axes>"
            ]
          },
          "metadata": {
            "tags": []
          }
        },
        {
          "output_type": "display_data",
          "data": {
            "text/plain": [
              "<Figure size 256x256 with 0 Axes>"
            ]
          },
          "metadata": {
            "tags": []
          }
        },
        {
          "output_type": "display_data",
          "data": {
            "text/plain": [
              "<Figure size 256x256 with 0 Axes>"
            ]
          },
          "metadata": {
            "tags": []
          }
        },
        {
          "output_type": "display_data",
          "data": {
            "text/plain": [
              "<Figure size 256x256 with 0 Axes>"
            ]
          },
          "metadata": {
            "tags": []
          }
        },
        {
          "output_type": "display_data",
          "data": {
            "text/plain": [
              "<Figure size 256x256 with 0 Axes>"
            ]
          },
          "metadata": {
            "tags": []
          }
        },
        {
          "output_type": "display_data",
          "data": {
            "text/plain": [
              "<Figure size 256x256 with 0 Axes>"
            ]
          },
          "metadata": {
            "tags": []
          }
        },
        {
          "output_type": "display_data",
          "data": {
            "text/plain": [
              "<Figure size 256x256 with 0 Axes>"
            ]
          },
          "metadata": {
            "tags": []
          }
        },
        {
          "output_type": "display_data",
          "data": {
            "text/plain": [
              "<Figure size 256x256 with 0 Axes>"
            ]
          },
          "metadata": {
            "tags": []
          }
        },
        {
          "output_type": "display_data",
          "data": {
            "text/plain": [
              "<Figure size 256x256 with 0 Axes>"
            ]
          },
          "metadata": {
            "tags": []
          }
        },
        {
          "output_type": "display_data",
          "data": {
            "text/plain": [
              "<Figure size 256x256 with 0 Axes>"
            ]
          },
          "metadata": {
            "tags": []
          }
        },
        {
          "output_type": "display_data",
          "data": {
            "text/plain": [
              "<Figure size 256x256 with 0 Axes>"
            ]
          },
          "metadata": {
            "tags": []
          }
        },
        {
          "output_type": "display_data",
          "data": {
            "text/plain": [
              "<Figure size 256x256 with 0 Axes>"
            ]
          },
          "metadata": {
            "tags": []
          }
        },
        {
          "output_type": "display_data",
          "data": {
            "text/plain": [
              "<Figure size 256x256 with 0 Axes>"
            ]
          },
          "metadata": {
            "tags": []
          }
        },
        {
          "output_type": "display_data",
          "data": {
            "text/plain": [
              "<Figure size 256x256 with 0 Axes>"
            ]
          },
          "metadata": {
            "tags": []
          }
        },
        {
          "output_type": "display_data",
          "data": {
            "text/plain": [
              "<Figure size 256x256 with 0 Axes>"
            ]
          },
          "metadata": {
            "tags": []
          }
        },
        {
          "output_type": "display_data",
          "data": {
            "text/plain": [
              "<Figure size 256x256 with 0 Axes>"
            ]
          },
          "metadata": {
            "tags": []
          }
        },
        {
          "output_type": "display_data",
          "data": {
            "text/plain": [
              "<Figure size 256x256 with 0 Axes>"
            ]
          },
          "metadata": {
            "tags": []
          }
        },
        {
          "output_type": "display_data",
          "data": {
            "text/plain": [
              "<Figure size 256x256 with 0 Axes>"
            ]
          },
          "metadata": {
            "tags": []
          }
        },
        {
          "output_type": "display_data",
          "data": {
            "text/plain": [
              "<Figure size 256x256 with 0 Axes>"
            ]
          },
          "metadata": {
            "tags": []
          }
        },
        {
          "output_type": "display_data",
          "data": {
            "text/plain": [
              "<Figure size 256x256 with 0 Axes>"
            ]
          },
          "metadata": {
            "tags": []
          }
        },
        {
          "output_type": "display_data",
          "data": {
            "text/plain": [
              "<Figure size 256x256 with 0 Axes>"
            ]
          },
          "metadata": {
            "tags": []
          }
        },
        {
          "output_type": "display_data",
          "data": {
            "text/plain": [
              "<Figure size 256x256 with 0 Axes>"
            ]
          },
          "metadata": {
            "tags": []
          }
        },
        {
          "output_type": "display_data",
          "data": {
            "text/plain": [
              "<Figure size 256x256 with 0 Axes>"
            ]
          },
          "metadata": {
            "tags": []
          }
        },
        {
          "output_type": "display_data",
          "data": {
            "text/plain": [
              "<Figure size 256x256 with 0 Axes>"
            ]
          },
          "metadata": {
            "tags": []
          }
        },
        {
          "output_type": "display_data",
          "data": {
            "text/plain": [
              "<Figure size 256x256 with 0 Axes>"
            ]
          },
          "metadata": {
            "tags": []
          }
        },
        {
          "output_type": "display_data",
          "data": {
            "text/plain": [
              "<Figure size 256x256 with 0 Axes>"
            ]
          },
          "metadata": {
            "tags": []
          }
        },
        {
          "output_type": "display_data",
          "data": {
            "text/plain": [
              "<Figure size 256x256 with 0 Axes>"
            ]
          },
          "metadata": {
            "tags": []
          }
        },
        {
          "output_type": "display_data",
          "data": {
            "text/plain": [
              "<Figure size 256x256 with 0 Axes>"
            ]
          },
          "metadata": {
            "tags": []
          }
        },
        {
          "output_type": "display_data",
          "data": {
            "text/plain": [
              "<Figure size 256x256 with 0 Axes>"
            ]
          },
          "metadata": {
            "tags": []
          }
        },
        {
          "output_type": "display_data",
          "data": {
            "text/plain": [
              "<Figure size 256x256 with 0 Axes>"
            ]
          },
          "metadata": {
            "tags": []
          }
        },
        {
          "output_type": "display_data",
          "data": {
            "text/plain": [
              "<Figure size 256x256 with 0 Axes>"
            ]
          },
          "metadata": {
            "tags": []
          }
        },
        {
          "output_type": "display_data",
          "data": {
            "text/plain": [
              "<Figure size 256x256 with 0 Axes>"
            ]
          },
          "metadata": {
            "tags": []
          }
        },
        {
          "output_type": "display_data",
          "data": {
            "text/plain": [
              "<Figure size 256x256 with 0 Axes>"
            ]
          },
          "metadata": {
            "tags": []
          }
        },
        {
          "output_type": "display_data",
          "data": {
            "text/plain": [
              "<Figure size 256x256 with 0 Axes>"
            ]
          },
          "metadata": {
            "tags": []
          }
        },
        {
          "output_type": "display_data",
          "data": {
            "text/plain": [
              "<Figure size 256x256 with 0 Axes>"
            ]
          },
          "metadata": {
            "tags": []
          }
        },
        {
          "output_type": "display_data",
          "data": {
            "text/plain": [
              "<Figure size 256x256 with 0 Axes>"
            ]
          },
          "metadata": {
            "tags": []
          }
        },
        {
          "output_type": "display_data",
          "data": {
            "text/plain": [
              "<Figure size 256x256 with 0 Axes>"
            ]
          },
          "metadata": {
            "tags": []
          }
        },
        {
          "output_type": "display_data",
          "data": {
            "text/plain": [
              "<Figure size 256x256 with 0 Axes>"
            ]
          },
          "metadata": {
            "tags": []
          }
        },
        {
          "output_type": "display_data",
          "data": {
            "text/plain": [
              "<Figure size 256x256 with 0 Axes>"
            ]
          },
          "metadata": {
            "tags": []
          }
        }
      ]
    },
    {
      "cell_type": "code",
      "metadata": {
        "colab": {
          "base_uri": "https://localhost:8080/",
          "height": 68
        },
        "id": "nCaLyVaZ7Ri6",
        "outputId": "383e8f41-80a8-4f5c-9fc4-08da10965189"
      },
      "source": [
        "dataSize = len( x_data )\n",
        "os.chdir( TEST_DIR )\n",
        "\n",
        "plt.figure( figsize = figSize, dpi = 100 )\n",
        "\n",
        "plt.plot( [ -2, 0, 2 ], [ -2, 0, 2 ], 'k.' )\n",
        "plt.axis( [ -10, 10, -50, 50 ] )\n",
        "plt.axis( 'off' )\n",
        "\n",
        "plt.savefig( f'graph_test_0.png'  )\n",
        "plt.clf()\n",
        "\n",
        "\n",
        "plt.figure( figsize = figSize, dpi = 100 )\n",
        "\n",
        "plt.plot( [ -2, 0, 2 ], [ 4, 0, 4 ], 'k.' )\n",
        "plt.axis( 'off' )\n",
        "\n",
        "plt.savefig( f'graph_test_1.png'  )\n",
        "plt.clf()\n",
        "\n",
        "\n",
        "plt.figure( figsize = figSize, dpi = 100 )\n",
        "\n",
        "plt.plot( [ -2, 0, 2 ], [ -8, 0, 8 ], 'k.' )\n",
        "plt.axis( 'off' )\n",
        "\n",
        "plt.savefig( f'graph_test_2.png'  )\n",
        "plt.clf()\n"
      ],
      "execution_count": 7,
      "outputs": [
        {
          "output_type": "display_data",
          "data": {
            "text/plain": [
              "<Figure size 256x256 with 0 Axes>"
            ]
          },
          "metadata": {
            "tags": []
          }
        },
        {
          "output_type": "display_data",
          "data": {
            "text/plain": [
              "<Figure size 256x256 with 0 Axes>"
            ]
          },
          "metadata": {
            "tags": []
          }
        },
        {
          "output_type": "display_data",
          "data": {
            "text/plain": [
              "<Figure size 256x256 with 0 Axes>"
            ]
          },
          "metadata": {
            "tags": []
          }
        }
      ]
    },
    {
      "cell_type": "markdown",
      "metadata": {
        "id": "xzp0v_erBDaC"
      },
      "source": [
        "# Load Data"
      ]
    },
    {
      "cell_type": "code",
      "metadata": {
        "id": "ed5IUDLeMdSc"
      },
      "source": [
        "x_data, y_data = [ ], [ ]\n",
        "x_test = [ ]\n",
        "\n",
        "os.chdir( X_DATA_DIR )\n",
        "files = glob.glob( '*png' )\n",
        "for file in files:\n",
        "    x_data.append( 255 - cv2.imread( file, 0 ) )\n",
        "\n",
        "os.chdir( Y_DATA_DIR )\n",
        "files = glob.glob( '*png' )\n",
        "for file in files:\n",
        "    y_data.append( 255 - cv2.imread( file, 0 ) )\n",
        "\n",
        "os.chdir( TEST_DIR )\n",
        "files = glob.glob( '*png' )\n",
        "for file in files:\n",
        "    x_test.append( 255 - cv2.imread( file, 0 ) )"
      ],
      "execution_count": 8,
      "outputs": []
    },
    {
      "cell_type": "code",
      "metadata": {
        "colab": {
          "base_uri": "https://localhost:8080/",
          "height": 273
        },
        "id": "3ggCCceoMaeY",
        "outputId": "1e4413f6-cbb9-4da9-aae7-6aeb23d4f9e8"
      },
      "source": [
        "from google.colab.patches import cv2_imshow\n",
        "\n",
        "cv2_imshow( x_data[0] )"
      ],
      "execution_count": 9,
      "outputs": [
        {
          "output_type": "display_data",
          "data": {
            "image/png": "[encoded data removed]",
            "text/plain": [
              "<PIL.Image.Image image mode=L size=256x256 at 0x7F37E4487A58>"
            ]
          },
          "metadata": {
            "tags": []
          }
        }
      ]
    },
    {
      "cell_type": "code",
      "metadata": {
        "id": "EfrEfsPJ_asf"
      },
      "source": [
        "x_data = np.array( x_data )\n",
        "y_data = np.array( y_data )\n",
        "x_test = np.array( x_test )\n",
        "\n",
        "x_data = x_data.astype( 'float32' ) / 255.\n",
        "y_data = y_data.astype( 'float32' ) / 255.\n",
        "x_test = x_test.astype( 'float32' ) / 255.\n",
        "\n",
        "x_data = np.reshape( x_data, ( len( x_data ), IMG_SIZE, IMG_SIZE, 1 ) )\n",
        "y_data = np.reshape( y_data, ( len( y_data ), IMG_SIZE, IMG_SIZE, 1 ) )\n",
        "x_test = np.reshape( x_test, ( len( x_test ), IMG_SIZE, IMG_SIZE, 1 ) )"
      ],
      "execution_count": 10,
      "outputs": []
    },
    {
      "cell_type": "code",
      "metadata": {
        "colab": {
          "base_uri": "https://localhost:8080/"
        },
        "id": "V6KDeGudBwUr",
        "outputId": "5e71d476-e370-4676-eef5-6ce5ea24a97f"
      },
      "source": [
        "x_data.shape"
      ],
      "execution_count": 11,
      "outputs": [
        {
          "output_type": "execute_result",
          "data": {
            "text/plain": [
              "(30, 256, 256, 1)"
            ]
          },
          "metadata": {
            "tags": []
          },
          "execution_count": 11
        }
      ]
    },
    {
      "cell_type": "markdown",
      "metadata": {
        "id": "fo4B8Nd-NBKZ"
      },
      "source": [
        "# Build Models"
      ]
    },
    {
      "cell_type": "code",
      "metadata": {
        "id": "Av8962le7keX"
      },
      "source": [
        "import tensorflow as tf\n",
        "from tensorflow import keras\n",
        "from tensorflow.keras import layers"
      ],
      "execution_count": 12,
      "outputs": []
    },
    {
      "cell_type": "code",
      "metadata": {
        "id": "Etp3cQtV_o4C"
      },
      "source": [
        "BUFFER_SIZE = 30\n",
        "BATCH_SIZE = 10\n",
        "train_dataset = tf.data.Dataset.from_tensor_slices(x_data).shuffle(BUFFER_SIZE).batch(BATCH_SIZE)"
      ],
      "execution_count": 13,
      "outputs": []
    },
    {
      "cell_type": "markdown",
      "metadata": {
        "id": "BclHsCvaND9x"
      },
      "source": [
        "## Build Generator Model"
      ]
    },
    {
      "cell_type": "code",
      "metadata": {
        "id": "iK8p37IYMd9z"
      },
      "source": [
        "generator = keras.Sequential( name = 'generator' )\n",
        "\n",
        "generator.add( layers.Input( [ IMG_SIZE, IMG_SIZE, 1 ] ) )\n",
        "\n",
        "# output shape ( 128, 128, 32 )\n",
        "generator.add( layers.Conv2DTranspose( 32, ( 5, 5 ), padding = 'same', use_bias = False ) )\n",
        "generator.add( layers.MaxPool2D( ( 2, 2 ) ) )\n",
        "generator.add( layers.BatchNormalization( ) )\n",
        "generator.add( layers.LeakyReLU( ) )\n",
        "\n",
        "# output shape ( 64, 64, 64 )\n",
        "generator.add( layers.Conv2DTranspose( 64, ( 5, 5 ), padding = 'same', use_bias = False ) )\n",
        "generator.add( layers.MaxPool2D( ( 2, 2 ) ) )\n",
        "generator.add( layers.BatchNormalization( ) )\n",
        "generator.add( layers.LeakyReLU( ) )\n",
        "\n",
        " # output shape ( 128, 128, 64 )\n",
        "generator.add( layers.Conv2DTranspose( 64, ( 5, 5 ), padding = 'same', use_bias = False ) )\n",
        "generator.add( layers.UpSampling2D( ( 2, 2 ) ) )\n",
        "generator.add( layers.BatchNormalization( ) )\n",
        "generator.add( layers.LeakyReLU( ) )\n",
        "\n",
        "# output shape ( 256, 256, 32 )\n",
        "generator.add( layers.Conv2DTranspose( 32, ( 5, 5 ), padding = 'same', use_bias = False ) )\n",
        "generator.add( layers.UpSampling2D( ( 2, 2 ) ) )\n",
        "generator.add( layers.BatchNormalization( ) )\n",
        "generator.add( layers.LeakyReLU( ) )\n",
        "\n",
        "# output shape ( 256, 256, 1 )\n",
        "generator.add( layers.Conv2DTranspose( 1, ( 5, 5 ), padding = 'same', use_bias = False, activation = 'tanh' ) )"
      ],
      "execution_count": 23,
      "outputs": []
    },
    {
      "cell_type": "code",
      "metadata": {
        "colab": {
          "base_uri": "https://localhost:8080/"
        },
        "id": "scITGONbOf_N",
        "outputId": "ecc9ea31-c6e5-4787-8dc5-1f52e831c551"
      },
      "source": [
        "generator.compile( )\n",
        "generator.summary()"
      ],
      "execution_count": 24,
      "outputs": [
        {
          "output_type": "stream",
          "text": [
            "Model: \"generator\"\n",
            "_________________________________________________________________\n",
            "Layer (type)                 Output Shape              Param #   \n",
            "=================================================================\n",
            "conv2d_transpose_10 (Conv2DT (None, 256, 256, 32)      800       \n",
            "_________________________________________________________________\n",
            "max_pooling2d_2 (MaxPooling2 (None, 128, 128, 32)      0         \n",
            "_________________________________________________________________\n",
            "batch_normalization_8 (Batch (None, 128, 128, 32)      128       \n",
            "_________________________________________________________________\n",
            "leaky_re_lu_11 (LeakyReLU)   (None, 128, 128, 32)      0         \n",
            "_________________________________________________________________\n",
            "conv2d_transpose_11 (Conv2DT (None, 128, 128, 64)      51200     \n",
            "_________________________________________________________________\n",
            "max_pooling2d_3 (MaxPooling2 (None, 64, 64, 64)        0         \n",
            "_________________________________________________________________\n",
            "batch_normalization_9 (Batch (None, 64, 64, 64)        256       \n",
            "_________________________________________________________________\n",
            "leaky_re_lu_12 (LeakyReLU)   (None, 64, 64, 64)        0         \n",
            "_________________________________________________________________\n",
            "conv2d_transpose_12 (Conv2DT (None, 64, 64, 64)        102400    \n",
            "_________________________________________________________________\n",
            "up_sampling2d_4 (UpSampling2 (None, 128, 128, 64)      0         \n",
            "_________________________________________________________________\n",
            "batch_normalization_10 (Batc (None, 128, 128, 64)      256       \n",
            "_________________________________________________________________\n",
            "leaky_re_lu_13 (LeakyReLU)   (None, 128, 128, 64)      0         \n",
            "_________________________________________________________________\n",
            "conv2d_transpose_13 (Conv2DT (None, 128, 128, 32)      51200     \n",
            "_________________________________________________________________\n",
            "up_sampling2d_5 (UpSampling2 (None, 256, 256, 32)      0         \n",
            "_________________________________________________________________\n",
            "batch_normalization_11 (Batc (None, 256, 256, 32)      128       \n",
            "_________________________________________________________________\n",
            "leaky_re_lu_14 (LeakyReLU)   (None, 256, 256, 32)      0         \n",
            "_________________________________________________________________\n",
            "conv2d_transpose_14 (Conv2DT (None, 256, 256, 1)       800       \n",
            "=================================================================\n",
            "Total params: 207,168\n",
            "Trainable params: 206,784\n",
            "Non-trainable params: 384\n",
            "_________________________________________________________________\n"
          ],
          "name": "stdout"
        }
      ]
    },
    {
      "cell_type": "code",
      "metadata": {
        "colab": {
          "base_uri": "https://localhost:8080/",
          "height": 286
        },
        "id": "FWA0TGM7FIDj",
        "outputId": "dcc03d47-cdb4-42eb-fde2-f9ec7f23b62a"
      },
      "source": [
        "noise = tf.random.normal( [ 1, IMG_SIZE, IMG_SIZE, 1 ] )\n",
        "generated_image = generator( noise, training = False )\n",
        "\n",
        "plt.imshow( generated_image[ 0, :, :, 0 ], cmap = 'gray' )"
      ],
      "execution_count": 25,
      "outputs": [
        {
          "output_type": "execute_result",
          "data": {
            "text/plain": [
              "<matplotlib.image.AxesImage at 0x7f37522c5400>"
            ]
          },
          "metadata": {
            "tags": []
          },
          "execution_count": 25
        },
        {
          "output_type": "display_data",
          "data": {
            "image/png": "[encoded data removed]",
            "text/plain": [
              "<Figure size 432x288 with 1 Axes>"
            ]
          },
          "metadata": {
            "tags": [],
            "needs_background": "light"
          }
        }
      ]
    },
    {
      "cell_type": "code",
      "metadata": {
        "colab": {
          "base_uri": "https://localhost:8080/"
        },
        "id": "-89zYlDHObUY",
        "outputId": "8e872af1-94e9-467f-c2d4-4289cec9e9c5"
      },
      "source": [
        "generated_image.shape"
      ],
      "execution_count": 19,
      "outputs": [
        {
          "output_type": "execute_result",
          "data": {
            "text/plain": [
              "TensorShape([1, 4096, 4096, 1])"
            ]
          },
          "metadata": {
            "tags": []
          },
          "execution_count": 19
        }
      ]
    },
    {
      "cell_type": "markdown",
      "metadata": {
        "id": "5lsNI6l7NHS_"
      },
      "source": [
        "## Build Discriminator Model"
      ]
    },
    {
      "cell_type": "code",
      "metadata": {
        "id": "59HyNNqKNJa3"
      },
      "source": [
        "discriminator = keras.Sequential( name = 'discriminator' )\n",
        "\n",
        "discriminator.add( layers.Conv2D( 32, ( 5, 5 ), strides = ( 2, 2 ), padding = 'same',\n",
        "                                 input_shape = [ IMG_SIZE, IMG_SIZE, 1 ] ) )\n",
        "discriminator.add( layers.LeakyReLU( ) )\n",
        "discriminator.add( layers.Dropout( 0.3 ) )\n",
        "\n",
        "discriminator.add( layers.Conv2D( 64, ( 5, 5 ), strides = ( 2, 2 ), padding = 'same' ) )\n",
        "discriminator.add( layers.LeakyReLU( ) )\n",
        "discriminator.add( layers.Dropout( 0.3 ) )\n",
        "\n",
        "discriminator.add( layers.Conv2D( 128, ( 5, 5 ), strides = ( 2, 2 ), padding = 'same' ) )\n",
        "discriminator.add( layers.LeakyReLU( ) )\n",
        "discriminator.add( layers.Dropout( 0.3 ) )\n",
        "\n",
        "discriminator.add( layers.Flatten( ) )\n",
        "discriminator.add( layers.Dense( 1 ) )"
      ],
      "execution_count": 17,
      "outputs": []
    },
    {
      "cell_type": "code",
      "metadata": {
        "colab": {
          "base_uri": "https://localhost:8080/"
        },
        "id": "1EI_1S-8Hfiu",
        "outputId": "4f5f1871-0ce7-444c-e157-32a16e9c97de"
      },
      "source": [
        "decision = discriminator( generated_image )\n",
        "print( decision )"
      ],
      "execution_count": 26,
      "outputs": [
        {
          "output_type": "stream",
          "text": [
            "tf.Tensor([[-0.00759057]], shape=(1, 1), dtype=float32)\n"
          ],
          "name": "stdout"
        }
      ]
    },
    {
      "cell_type": "markdown",
      "metadata": {
        "id": "aFnEebFfJF1f"
      },
      "source": [
        "# Train the models"
      ]
    },
    {
      "cell_type": "markdown",
      "metadata": {
        "id": "HB-qjfM9JZXy"
      },
      "source": [
        "## Define loss and optimizers"
      ]
    },
    {
      "cell_type": "code",
      "metadata": {
        "id": "nCI0SIKBHlCr"
      },
      "source": [
        "cross_entropy = keras.losses.BinaryCrossentropy( from_logits = True )"
      ],
      "execution_count": 27,
      "outputs": []
    },
    {
      "cell_type": "code",
      "metadata": {
        "id": "DgUSGNCNITO-"
      },
      "source": [
        "def discriminator_loss( real_output, fake_output ):\n",
        "    real_loss = cross_entropy( tf.ones_like( real_output ), real_output )\n",
        "    fake_loss = cross_entropy( tf.zeros_like( fake_output ), fake_output )\n",
        "\n",
        "    total_loss = real_loss + fake_loss\n",
        "    \n",
        "    return total_loss\n",
        "\n",
        "def generator_loss( fake_output ):\n",
        "    return cross_entropy( tf.ones_like( fake_output ), fake_output )"
      ],
      "execution_count": 28,
      "outputs": []
    },
    {
      "cell_type": "code",
      "metadata": {
        "id": "pCGCUVSkI57q"
      },
      "source": [
        "generator_optimizer = tf.keras.optimizers.Adam( 1e-4 )\n",
        "discriminator_optimizer = tf.keras.optimizers.Adam( 1e-4 )"
      ],
      "execution_count": 29,
      "outputs": []
    },
    {
      "cell_type": "markdown",
      "metadata": {
        "id": "ePMCxm0GJcAJ"
      },
      "source": [
        "## Define Hyperparameter"
      ]
    },
    {
      "cell_type": "code",
      "metadata": {
        "id": "MC6cFLL8JDM1"
      },
      "source": [
        "EPOCHS = 50\n",
        "noise_dim = 100\n",
        "num_examples_to_generate = 16"
      ],
      "execution_count": 30,
      "outputs": []
    },
    {
      "cell_type": "markdown",
      "metadata": {
        "id": "89WGTyVzKgP-"
      },
      "source": [
        "## Define Train Function"
      ]
    },
    {
      "cell_type": "code",
      "metadata": {
        "id": "tqQpnzlkKf2H"
      },
      "source": [
        "@tf.function\n",
        "def train_step( images ):\n",
        "    noise = tf.random.normal( [ BATCH_SIZE, IMG_SIZE, IMG_SIZE, 1 ] )\n",
        "\n",
        "    with tf.GradientTape( ) as gen_tape, tf.GradientTape( ) as disc_tape:\n",
        "      generated_images = generator( noise, training = True )\n",
        "\n",
        "      real_output = discriminator( images, training = True )\n",
        "      fake_output = discriminator( generated_images, training = True )\n",
        "\n",
        "      gen_loss = generator_loss( fake_output )\n",
        "      disc_loss = discriminator_loss( real_output, fake_output )\n",
        "\n",
        "    gradients_of_generator = gen_tape.gradient( gen_loss, generator.trainable_variables )\n",
        "    gradients_of_discriminator = disc_tape.gradient( disc_loss, discriminator.trainable_variables )\n",
        "\n",
        "    generator_optimizer.apply_gradients( zip( gradients_of_generator, generator.trainable_variables ) )\n",
        "    discriminator_optimizer.apply_gradients( zip( gradients_of_discriminator, discriminator.trainable_variables ) )\n",
        "\n",
        "def train( dataset, epochs ):\n",
        "  for epoch in range( epochs ):\n",
        "    start = time.time( )\n",
        "\n",
        "    for image_batch in dataset:\n",
        "      train_step( image_batch )\n",
        "\n",
        "    print( 'Time for epoch {} is {} sec'.format( epoch + 1, time.time( ) - start ) )"
      ],
      "execution_count": 33,
      "outputs": []
    },
    {
      "cell_type": "code",
      "metadata": {
        "colab": {
          "base_uri": "https://localhost:8080/"
        },
        "id": "LA0NIrgo6xbk",
        "outputId": "8fbe747c-4908-42cd-de1a-4917e04ff495"
      },
      "source": [
        "train( train_dataset, EPOCHS )"
      ],
      "execution_count": 34,
      "outputs": [
        {
          "output_type": "stream",
          "text": [
            "Time for epoch 1 is 2.1687653064727783 sec\n",
            "Time for epoch 2 is 0.2667820453643799 sec\n",
            "Time for epoch 3 is 0.2677738666534424 sec\n",
            "Time for epoch 4 is 0.2698087692260742 sec\n",
            "Time for epoch 5 is 0.2676105499267578 sec\n",
            "Time for epoch 6 is 0.26726794242858887 sec\n",
            "Time for epoch 7 is 0.26773667335510254 sec\n",
            "Time for epoch 8 is 0.2705085277557373 sec\n",
            "Time for epoch 9 is 0.26822614669799805 sec\n",
            "Time for epoch 10 is 0.26720523834228516 sec\n",
            "Time for epoch 11 is 0.2675642967224121 sec\n",
            "Time for epoch 12 is 0.2700023651123047 sec\n",
            "Time for epoch 13 is 0.2682192325592041 sec\n",
            "Time for epoch 14 is 0.2680501937866211 sec\n",
            "Time for epoch 15 is 0.2699015140533447 sec\n",
            "Time for epoch 16 is 0.26881933212280273 sec\n",
            "Time for epoch 17 is 0.2691457271575928 sec\n",
            "Time for epoch 18 is 0.2700536251068115 sec\n",
            "Time for epoch 19 is 0.2695963382720947 sec\n",
            "Time for epoch 20 is 0.2687108516693115 sec\n",
            "Time for epoch 21 is 0.2748839855194092 sec\n",
            "Time for epoch 22 is 0.2636129856109619 sec\n",
            "Time for epoch 23 is 0.2692224979400635 sec\n",
            "Time for epoch 24 is 0.2687242031097412 sec\n",
            "Time for epoch 25 is 0.2714660167694092 sec\n",
            "Time for epoch 26 is 0.26811861991882324 sec\n",
            "Time for epoch 27 is 0.26903748512268066 sec\n",
            "Time for epoch 28 is 0.2704174518585205 sec\n",
            "Time for epoch 29 is 0.2702023983001709 sec\n",
            "Time for epoch 30 is 0.2695462703704834 sec\n",
            "Time for epoch 31 is 0.26998090744018555 sec\n",
            "Time for epoch 32 is 0.27118945121765137 sec\n",
            "Time for epoch 33 is 0.270965576171875 sec\n",
            "Time for epoch 34 is 0.27033376693725586 sec\n",
            "Time for epoch 35 is 0.2699108123779297 sec\n",
            "Time for epoch 36 is 0.2713043689727783 sec\n",
            "Time for epoch 37 is 0.2707207202911377 sec\n",
            "Time for epoch 38 is 0.26947999000549316 sec\n",
            "Time for epoch 39 is 0.2695169448852539 sec\n",
            "Time for epoch 40 is 0.2715628147125244 sec\n",
            "Time for epoch 41 is 0.2721700668334961 sec\n",
            "Time for epoch 42 is 0.2682225704193115 sec\n",
            "Time for epoch 43 is 0.27005910873413086 sec\n",
            "Time for epoch 44 is 0.2714962959289551 sec\n",
            "Time for epoch 45 is 0.27185821533203125 sec\n",
            "Time for epoch 46 is 0.2702052593231201 sec\n",
            "Time for epoch 47 is 0.2705245018005371 sec\n",
            "Time for epoch 48 is 0.26947712898254395 sec\n",
            "Time for epoch 49 is 0.2719395160675049 sec\n",
            "Time for epoch 50 is 0.27089738845825195 sec\n"
          ],
          "name": "stdout"
        }
      ]
    },
    {
      "cell_type": "markdown",
      "metadata": {
        "id": "uT2iXgY-CXp7"
      },
      "source": [
        "# Test Model"
      ]
    },
    {
      "cell_type": "code",
      "metadata": {
        "colab": {
          "base_uri": "https://localhost:8080/",
          "height": 628
        },
        "id": "FOhm27aMCWm7",
        "outputId": "0bd21b7f-2378-4f44-b20b-2e22d1eee962"
      },
      "source": [
        "predicted_images = generator( x_test )\n",
        "\n",
        "n = 3\n",
        "fig, ax = plt.subplots( 2, 3, True, True, figsize = ( 16, 12 ) )\n",
        "for i in range( n ):\n",
        "    ax[0][i].imshow( x_test[i].reshape( 256, 256 ) )\n",
        "\n",
        "    ax[1][i].imshow( tf.reshape( predicted_images[i], ( 256, 256 ) ) )\n",
        "plt.savefig( 'result.png' )"
      ],
      "execution_count": 55,
      "outputs": [
        {
          "output_type": "display_data",
          "data": {
            "image/png": "[encoded data removed]",
            "text/plain": [
              "<Figure size 1152x864 with 6 Axes>"
            ]
          },
          "metadata": {
            "tags": [],
            "needs_background": "light"
          }
        }
      ]
    }
  ]
}